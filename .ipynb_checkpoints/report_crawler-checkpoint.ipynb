{
 "cells": [
  {
   "cell_type": "code",
   "execution_count": 9,
   "id": "f8706a5e-4734-46f4-82e3-9d8323703767",
   "metadata": {},
   "outputs": [],
   "source": [
    "import os\n",
    "import requests\n",
    "from bs4 import BeautifulSoup\n",
    "\n",
    "import pandas as pd\n",
    "\n",
    "download_parent_folder = 'Geschaeftsberichte/'"
   ]
  },
  {
   "cell_type": "code",
   "execution_count": 3,
   "id": "df319309-07d8-4fcf-940e-91fb5d5bc9b6",
   "metadata": {},
   "outputs": [
    {
     "name": "stdout",
     "output_type": "stream",
     "text": [
      "  Unternehmen                           URL           Stichwort\n",
      "0   degewo AG  https://www.degewo.de/presse  Konzernlagebericht\n"
     ]
    }
   ],
   "source": [
    "def create_dataframe(data, columns):\n",
    "    \"\"\"\n",
    "    Erstellt ein pandas DataFrame aus einer Liste von Listen und einer Liste von Spaltennamen.\n",
    "\n",
    "    :param data: List[List], die Datenreihen\n",
    "    :param columns: List[str], die Spaltennamen\n",
    "    :return: pandas.DataFrame\n",
    "    \"\"\"\n",
    "    return pd.DataFrame(data, columns=columns)\n",
    "\n",
    "# Beispiel-Daten\n",
    "data = [\n",
    "    ['degewo AG', 'https://www.degewo.de/presse', 'Konzernlagebericht']\n",
    "]\n",
    "\n",
    "columns = [\"Unternehmen\", \"URL\", \"Stichwort\"]\n",
    "\n",
    "df = create_dataframe(data, columns)\n",
    "print(df)"
   ]
  },
  {
   "cell_type": "markdown",
   "id": "3f9c5cf6-142d-4171-9702-48e67173377b",
   "metadata": {},
   "source": [
    "# degewo AG"
   ]
  },
  {
   "cell_type": "code",
   "execution_count": 14,
   "id": "331c4239-e08a-4907-8cd2-30c4cc96c42b",
   "metadata": {},
   "outputs": [
    {
     "name": "stdout",
     "output_type": "stream",
     "text": [
      "Lade herunter: https://www.degewo.de/fileadmin/user_upload/degewo/Presse/Pressematerial/2023/240618-degewo-konzernlagerbericht-konzernabschluss-2023.pdf\n",
      "Gespeichert als: Geschaeftsberichte/degewo AG/240618-degewo-konzernlagerbericht-konzernabschluss-2023.pdf\n",
      "Lade herunter: https://www.degewo.de/fileadmin/user_upload/degewo/Presse/Pressematerial/degewo_Konzernlagebericht_Konzernabschluss_2022.pdf\n",
      "Gespeichert als: Geschaeftsberichte/degewo AG/degewo_Konzernlagebericht_Konzernabschluss_2022.pdf\n",
      "Lade herunter: https://www.degewo.de/fileadmin/user_upload/degewo/Presse/Pressematerial/2021/212131_degewo_2022_Konzernlagebericht_Konzernabschluss.pdf\n",
      "Gespeichert als: Geschaeftsberichte/degewo AG/212131_degewo_2022_Konzernlagebericht_Konzernabschluss.pdf\n",
      "Lade herunter: https://www.degewo.de/fileadmin/user_upload/degewo/Presse/Pressematerial/201231_degewo_Konzernlagebericht_Konzernabschluss.pdf\n",
      "Gespeichert als: Geschaeftsberichte/degewo AG/201231_degewo_Konzernlagebericht_Konzernabschluss.pdf\n",
      "Lade herunter: https://www.degewo.de/fileadmin/user_upload/degewo/Presse/Pressematerial/2019/2019_degewo_Konzernbericht_und_Gleicher_Lohn_fuer_gleiche_Arbeit.pdf\n",
      "Gespeichert als: Geschaeftsberichte/degewo AG/2019_degewo_Konzernbericht_und_Gleicher_Lohn_fuer_gleiche_Arbeit.pdf\n",
      "Lade herunter: https://www.degewo.de/fileadmin/user_upload/degewo/Presse/Pressematerial/2018/2018_degewo_Konzernlagebericht_und_Konzernabschluss_fuer_das_Geschaeftsjahr.pdf\n",
      "Gespeichert als: Geschaeftsberichte/degewo AG/2018_degewo_Konzernlagebericht_und_Konzernabschluss_fuer_das_Geschaeftsjahr.pdf\n",
      "Lade herunter: https://www.degewo.de/fileadmin/user_upload/degewo/Presse/Pressematerial/2017/2017_degewo_degewo_Homepage.pdf\n",
      "Gespeichert als: Geschaeftsberichte/degewo AG/2017_degewo_degewo_Homepage.pdf\n"
     ]
    }
   ],
   "source": [
    "unternehmen = 'degewo AG'\n",
    "URL = df.loc[df['Unternehmen'] == unternehmen, 'URL'].values[0]\n",
    "\n",
    "# Verzeichnis für die heruntergeladenen PDFs\n",
    "DOWNLOAD_FOLDER = download_parent_folder+unternehmen\n",
    "os.makedirs(DOWNLOAD_FOLDER, exist_ok=True)\n",
    "\n",
    "def download_pdfs(url):\n",
    "    response = requests.get(url)\n",
    "    response.raise_for_status()\n",
    "    \n",
    "    soup = BeautifulSoup(response.text, \"html.parser\")\n",
    "    links = soup.find_all(\"a\", href=True)\n",
    "    \n",
    "    for link in links:\n",
    "        if \"Konzernlagebericht\" in link.text and link[\"href\"].endswith(\".pdf\"):\n",
    "            pdf_url = link[\"href\"]\n",
    "            if not pdf_url.startswith(\"http\"):\n",
    "                pdf_url = requests.compat.urljoin(url, pdf_url)\n",
    "            \n",
    "            pdf_name = os.path.join(DOWNLOAD_FOLDER, pdf_url.split(\"/\")[-1])\n",
    "\n",
    "            if os.path.exists(pdf_name):\n",
    "                print(f\"Bereits vorhanden: {pdf_name}\")\n",
    "                continue\n",
    "            \n",
    "            print(f\"Lade herunter: {pdf_url}\")\n",
    "            pdf_response = requests.get(pdf_url)\n",
    "            with open(pdf_name, \"wb\") as file:\n",
    "                file.write(pdf_response.content)\n",
    "            print(f\"Gespeichert als: {pdf_name}\")\n",
    "\n",
    "download_pdfs(URL)"
   ]
  },
  {
   "cell_type": "code",
   "execution_count": null,
   "id": "c74f6434-0b15-463a-9cf1-e4395d59bd62",
   "metadata": {},
   "outputs": [],
   "source": []
  }
 ],
 "metadata": {
  "kernelspec": {
   "display_name": "Python 3 (ipykernel)",
   "language": "python",
   "name": "python3"
  },
  "language_info": {
   "codemirror_mode": {
    "name": "ipython",
    "version": 3
   },
   "file_extension": ".py",
   "mimetype": "text/x-python",
   "name": "python",
   "nbconvert_exporter": "python",
   "pygments_lexer": "ipython3",
   "version": "3.13.2"
  }
 },
 "nbformat": 4,
 "nbformat_minor": 5
}
