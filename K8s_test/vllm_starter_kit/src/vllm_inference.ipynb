{
 "cells": [
  {
   "cell_type": "code",
   "execution_count": 1,
   "metadata": {},
   "outputs": [
    {
     "name": "stdout",
     "output_type": "stream",
     "text": [
      "Generated text: ['When I was a king, I used to receive every day letters from all parts of the world, containing the most amazing and incredible stories, and I used to laugh at them, for I thought that if they were true, the whole world was mad. I would write to the persons who had written to me, and ask them whether their stories were true, and they would always reply that they were true, and that they were living in the midst of the madness, and I would laugh at their replies,']\n"
     ]
    }
   ],
   "source": [
    "import requests\n",
    "import json\n",
    "\n",
    "# Define the API endpoint\n",
    "api_url = \"http://localhost:8000/generate\"\n",
    "\n",
    "# Set up the input data for inference\n",
    "data = {\n",
    "    \"prompt\": \"When I was a king,\",\n",
    "    \"temperature\": 0.7,      # Control randomness (optional)\n",
    "    \"max_tokens\": 100,       # Limit the length of the response\n",
    "    \"top_p\": 0.9,            # Use nucleus sampling (optional)\n",
    "}\n",
    "\n",
    "# Make the POST request to the vLLM API server\n",
    "response = requests.post(api_url, json=data)\n",
    "\n",
    "# Parse and display the response\n",
    "if response.status_code == 200:\n",
    "    result = response.json()\n",
    "    generated_text = result[\"text\"]\n",
    "    print(\"Generated text:\", generated_text)\n",
    "else:\n",
    "    print(f\"Error: {response.status_code}, {response.text}\")"
   ]
  },
  {
   "cell_type": "code",
   "execution_count": null,
   "metadata": {},
   "outputs": [],
   "source": []
  }
 ],
 "metadata": {
  "kernelspec": {
   "display_name": "Python 3",
   "language": "python",
   "name": "python3"
  },
  "language_info": {
   "codemirror_mode": {
    "name": "ipython",
    "version": 3
   },
   "file_extension": ".py",
   "mimetype": "text/x-python",
   "name": "python",
   "nbconvert_exporter": "python",
   "pygments_lexer": "ipython3",
   "version": "3.11.7"
  }
 },
 "nbformat": 4,
 "nbformat_minor": 2
}
