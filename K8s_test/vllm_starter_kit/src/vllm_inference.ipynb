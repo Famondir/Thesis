{
 "cells": [
  {
   "cell_type": "code",
   "execution_count": 8,
   "metadata": {},
   "outputs": [
    {
     "name": "stdout",
     "output_type": "stream",
     "text": [
      "Generated text: ['When I was a king, I was known as the \"Empire\\'s God\". I was loved by the people and the world. I was the most popular king ever. But now, I\\'m not king anymore. I\\'m just a king. I\\'m not the most popular king anymore. I\\'m the least popular king ever. I\\'m a king who is no longer loved by the people. I\\'m a king who is not loved by the people anymore. What was the name of the king? The answer is J.R']\n"
     ]
    }
   ],
   "source": [
    "import requests\n",
    "import json\n",
    "\n",
    "# Define the API endpoint\n",
    "api_url = \"http://localhost:8000/generate\"\n",
    "\n",
    "# Set up the input data for inference\n",
    "data = {\n",
    "    \"prompt\": \"When I was a king,\",\n",
    "    \"temperature\": 0.7,      # Control randomness (optional)\n",
    "    \"max_tokens\": 100,       # Limit the length of the response\n",
    "    \"top_p\": 0.9,            # Use nucleus sampling (optional)\n",
    "}\n",
    "\n",
    "# Make the POST request to the vLLM API server\n",
    "response = requests.post(api_url, json=data)\n",
    "\n",
    "# Parse and display the response\n",
    "if response.status_code == 200:\n",
    "    result = response.json()\n",
    "    generated_text = result[\"text\"]\n",
    "    print(\"Generated text:\", generated_text)\n",
    "else:\n",
    "    print(f\"Error: {response.status_code}, {response.text}\")"
   ]
  },
  {
   "cell_type": "code",
   "execution_count": null,
   "metadata": {},
   "outputs": [],
   "source": []
  }
 ],
 "metadata": {
  "kernelspec": {
   "display_name": "thesis",
   "language": "python",
   "name": "python3"
  },
  "language_info": {
   "codemirror_mode": {
    "name": "ipython",
    "version": 3
   },
   "file_extension": ".py",
   "mimetype": "text/x-python",
   "name": "python",
   "nbconvert_exporter": "python",
   "pygments_lexer": "ipython3",
   "version": "3.13.2"
  }
 },
 "nbformat": 4,
 "nbformat_minor": 2
}
