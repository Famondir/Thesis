{
 "cells": [
  {
   "cell_type": "code",
   "execution_count": 1,
   "id": "e9af563c",
   "metadata": {},
   "outputs": [],
   "source": [
    "from pypdf import PdfReader\n",
    "import requests\n",
    "\n",
    "easy_table = \"../benchmark_tables/easy_table_german_finance_v2.pdf\"\n",
    "\n",
    "reader = PdfReader(easy_table)\n",
    "page = reader.pages[0]\n",
    "# print(page.extract_text())\n",
    "\n",
    "# Define the API endpoint\n",
    "api_url = \"http://localhost:8000/generate\""
   ]
  },
  {
   "cell_type": "code",
   "execution_count": 6,
   "id": "6f1c3b01",
   "metadata": {},
   "outputs": [
    {
     "name": "stdout",
     "output_type": "stream",
     "text": [
      "Generated text:  The response must be a JSON list with the tables extracted from the text. Each table should have a key for each column header followed by a list with all the values of that column. If there are multiple tables, create an separate entry in the JSON list. Do not include any other text or explanation in the response. The response must be a JSON list with the tables extracted from the text. Each table should have a key for each column header followed by a list with all the values of that column. If there are multiple tables, create an separate entry in the JSON list. Do not include any other text or explanation in the response. The response must be a JSON list with the tables extracted from the text. Each table should have a key for each column header followed by a list with all the values of that column. If there are multiple tables, create an separate entry in the JSON list. Do not include any other text or explanation in the response. The response must be a JSON list with the tables extracted from the text. Each table should have a key for each column header followed by a list with all the values of that column. If there are multiple tables, create an separate entry in the JSON list. Do not include any other text or explanation in the response. The response must be a JSON list with the tables extracted from the text. Each table should have a key for each column header followed by a list with all the values of that column. If there are multiple tables, create\n"
     ]
    }
   ],
   "source": [
    "prompt = f'Extract all tables from the following text and return them as JSON:\\n\\n \"\"\"\\n{page.extract_text()}\\n\"\"\"\\n\\nIf there are no tables in the text respond with an empty JSON list.\\n\\nDo not give any explanation or instructions but only the JSON fromated tables.\\n\\nFor each table give a key for each column header followed by a list with all the values of that column.\\n\\nIf there are multiple tables create an seperate entry in the JSON list.\\n\\nDo not include any other text or explanation in the response.'\n",
    "# Set up the input data for inference\n",
    "data = {\n",
    "    \"prompt\": prompt,\n",
    "    \"temperature\": 0.3,      # Control randomness (optional)\n",
    "    \"max_tokens\": 300,       # Limit the length of the response\n",
    "    \"top_p\": 0.9,            # Use nucleus sampling (optional)\n",
    "}\n",
    "\n",
    "# Make the POST request to the vLLM API server\n",
    "response = requests.post(api_url, json=data)\n",
    "\n",
    "# Parse and display the response\n",
    "if response.status_code == 200:\n",
    "    result = response.json()\n",
    "    generated_text = result[\"text\"]\n",
    "    print(\"Generated text:\", generated_text[0].replace(prompt, \"\"))\n",
    "else:\n",
    "    print(f\"Error: {response.status_code}, {response.text}\")"
   ]
  },
  {
   "cell_type": "markdown",
   "id": "e767cb75",
   "metadata": {},
   "source": [
    "Die Ergebnisse von Gwen2.5 7B sind viel besser als von 0.5B-Instruct. At least it worked yesterday (2025-04-15)."
   ]
  },
  {
   "cell_type": "code",
   "execution_count": null,
   "id": "7a5c5ac0",
   "metadata": {},
   "outputs": [
    {
     "name": "stdout",
     "output_type": "stream",
     "text": [
      "Generated text: Here is the extracted tables from the text in JSON format:\n",
      "```json\n",
      "[\n",
      "    {\n",
      "        \"Titel\": [\"Posten Einheit 2023 2024 Differenz\"],\n",
      "        \"Vermögen TEUR\": [\"20\", \"21\", \"1\"],\n",
      "        \"Ausgaben TEUR\": [\"10\", \"12\", \"2\"],\n",
      "        \"Einnahmen TEUR\": [\"19\", \"13\", \"-6\"]\n",
      "    },\n",
      "    {\n",
      "        \"Posten 2023 2024 Differenz\": [\"Vermögen TEUR\", \"Ausgaben TEUR\", \"Einnahmen TEUR\"],\n",
      "        \"Vermögen TEUR\": [\"30\", \"23\", \"-7\"],\n",
      "        \"Ausgaben TEUR\": [\"15\", \"17\", \"2\"],\n",
      "        \"Einnahmen TEUR\": [\"19\", \"19\", \"0\"]\n",
      "    },\n",
      "    {\n",
      "        \"Summe\": [\"4\", \"2\"]\n",
      "    },\n",
      "    {\n",
      "        \"Aber was die Quantenstruktur der Bosonen verändert, wenn diese mit Röntgenstrahlung beschossen wird, ist bisher unklar.\": []\n",
      "    }\n",
      "]\n",
      "```\n"
     ]
    }
   ],
   "source": [
    "prompt = '''Extract all tables from the following text and return them as JSON:\n",
    "\n",
    "\"\"\"\n",
    "{#data#}\n",
    "\"\"\"\n",
    "\n",
    "If there are no tables in the text respond with an empty JSON list.\n",
    "\n",
    "Do not give any explanation or instructions. Just return the JSON fromated tables.\n",
    "\n",
    "For each table give a key for each column header followed by a list with all the values of that column. It should follow this format:\n",
    "[{\n",
    "    \"column_header_1\": [value_1, value_2, ...],\n",
    "    \"column_header_2\": [value_1, value_2, ...],\n",
    "    ...\n",
    "    \"column_header_n\": [value_1, value_2, ...]\n",
    "},\n",
    "{\n",
    "    \"column_header_1\": [value_1, value_2, ...],\n",
    "    \"column_header_2\": [value_1, value_2, ...],\n",
    "    ...\n",
    "    \"column_header_m\": [value_1, value_2, ...]\n",
    "}]\n",
    "\n",
    "If there are multiple tables create an seperate entry in the JSON list.\n",
    "'''.replace(\"{#data#}\", page.extract_text())\n",
    "# Set up the input data for inference\n",
    "data = {\n",
    "    \"prompt\": prompt,\n",
    "    \"temperature\": 0.3,      # Control randomness (optional)\n",
    "    \"max_tokens\": 300,       # Limit the length of the response\n",
    "    \"top_p\": 0.9,            # Use nucleus sampling (optional)\n",
    "}\n",
    "\n",
    "# Make the POST request to the vLLM API server\n",
    "response = requests.post(api_url, json=data)\n",
    "\n",
    "# Parse and display the response\n",
    "if response.status_code == 200:\n",
    "    result = response.json()\n",
    "    generated_text = result[\"text\"]\n",
    "    print(\"Generated text:\", generated_text[0].replace(prompt, \"\")\n",
    "          )\n",
    "else:\n",
    "    print(f\"Error: {response.status_code}, {response.text}\")"
   ]
  },
  {
   "cell_type": "markdown",
   "id": "d6f3f00d",
   "metadata": {},
   "source": [
    "Es scheinen richtige Absätze mit \\n\\n besser erkannt zu werden, als einfache \\n."
   ]
  },
  {
   "cell_type": "markdown",
   "id": "f330af74",
   "metadata": {},
   "source": [
    "OpenAI Backend viel langsamer beim starten! Caching funktioniert scheinbar nur, wenn das Deployment nach Fehler neugestartet wird, aber nicht, bei Neustart."
   ]
  },
  {
   "cell_type": "code",
   "execution_count": null,
   "id": "12fdeb79",
   "metadata": {},
   "outputs": [
    {
     "data": {
      "text/plain": [
       "'easy_table_uncompressed.pdf'"
      ]
     },
     "execution_count": 4,
     "metadata": {},
     "output_type": "execute_result"
    }
   ],
   "source": [
    "import pypdftk\n",
    "# pypdftk.uncompress(easy_table, \"easy_table_uncompressed.pdf\")"
   ]
  },
  {
   "cell_type": "code",
   "execution_count": 2,
   "id": "db646d07",
   "metadata": {},
   "outputs": [],
   "source": [
    "from openai import OpenAI\n",
    "\n",
    "client = OpenAI(\n",
    "    base_url=\"http://localhost:8000/v1\",\n",
    "    api_key=\"-\",\n",
    ")"
   ]
  },
  {
   "cell_type": "code",
   "execution_count": 4,
   "id": "a181dd55",
   "metadata": {},
   "outputs": [
    {
     "name": "stdout",
     "output_type": "stream",
     "text": [
      "/home/simon/Documents/data_science/Thesis/Python\n",
      "[<table><tr><td>2023</td><td>2023</td><td>Vermögen TEUR</td></tr><tr><td>1</td><td>21</td><td>21</td></tr><tr><td>2</td><td>19</td><td>13</td></tr><tr><td>-6</td><td>19</td><td>19</td></tr><tr><td>Total</td><td>Total</td><td>13</td></tr></table>]\n"
     ]
    },
    {
     "data": {
      "text/markdown": [
       "[<table><tr><td>2023</td><td>2023</td><td>Vermögen TEUR</td></tr><tr><td>1</td><td>21</td><td>21</td></tr><tr><td>2</td><td>19</td><td>13</td></tr><tr><td>-6</td><td>19</td><td>19</td></tr><tr><td>Total</td><td>Total</td><td>13</td></tr></table>]"
      ],
      "text/plain": [
       "<IPython.core.display.Markdown object>"
      ]
     },
     "execution_count": 4,
     "metadata": {},
     "output_type": "execute_result"
    }
   ],
   "source": [
    "from pypdf import PdfReader\n",
    "import os\n",
    "\n",
    "print(os.getcwd())\n",
    "easy_table = \"../benchmark_tables/easy_table_german_finance_v2.pdf\"\n",
    "\n",
    "reader = PdfReader(easy_table)\n",
    "page = reader.pages[0]\n",
    "\n",
    "HTML_TABLE_GRAMMAR = r\"\"\"\n",
    "root ::= \"[\" table? (\",\" table)* \"]\"\n",
    "table ::= \"<table>\" table_content \"</table>\"\n",
    "table_content ::= (row)+\n",
    "row ::= \"<tr>\" (cell)+ \"</tr>\"\n",
    "cell ::= \"<td>\" cell_content \"</td>\"\n",
    "cell_content ::= [^<]*\n",
    "\"\"\"\n",
    "\n",
    "prompt = (f\"Generate a list of HTML code for the two tables contained in this text:\\n\\n'''{page.extract_text()}'''\\n\\nBeside the two tables there is also some text in the document. It can be sentences or just a heading. You have to omitt it.\\n\\nWe provide you with a grammar to help you generate a list with proper HTML code.\")\n",
    "completion = client.chat.completions.create(\n",
    "    model=\"Qwen/Qwen2.5-7B\",\n",
    "    messages=[{\n",
    "        \"role\": \"user\",\n",
    "        \"content\": prompt,\n",
    "    }],\n",
    "    extra_body={\n",
    "        \"guided_grammar\": HTML_TABLE_GRAMMAR\n",
    "        },\n",
    ")\n",
    "\n",
    "from IPython.display import Markdown\n",
    "print(completion.choices[0].message.content)\n",
    "Markdown(completion.choices[0].message.content)"
   ]
  },
  {
   "cell_type": "code",
   "execution_count": 6,
   "id": "5a76d0f4",
   "metadata": {},
   "outputs": [
    {
     "name": "stdout",
     "output_type": "stream",
     "text": [
      "[<table><tr><td>Posten Einheit</td><td>2023</td><td>2024</td><td>Differenz</td></tr><tr><td>Vermögen TEUR</td><td>20</td><td>21</td><td>1</td></tr><tr><td>Summe</td><td>24</td><td>25</td><td>1</td></tr></table>,<table><tr><td>Posten 2023</td><td>2024</td><td>Differenz</td></tr><tr><td>Vermögen TEUR</td><td>30</td><td>23</td><td>-7</td></tr><tr><td>Ausgaben TEUR</td><td>15</td><td>17</td><td>2</td></tr><tr><td>Einnahmen TEUR</td><td>19</td><td>19</td><td>0</td></tr><tr><td>Summe</td><td>25</td><td>25</td><td>0</td></tr></table>]\n"
     ]
    },
    {
     "data": {
      "text/markdown": [
       "[<table><tr><td>Posten Einheit</td><td>2023</td><td>2024</td><td>Differenz</td></tr><tr><td>Vermögen TEUR</td><td>20</td><td>21</td><td>1</td></tr><tr><td>Summe</td><td>24</td><td>25</td><td>1</td></tr></table>,<table><tr><td>Posten 2023</td><td>2024</td><td>Differenz</td></tr><tr><td>Vermögen TEUR</td><td>30</td><td>23</td><td>-7</td></tr><tr><td>Ausgaben TEUR</td><td>15</td><td>17</td><td>2</td></tr><tr><td>Einnahmen TEUR</td><td>19</td><td>19</td><td>0</td></tr><tr><td>Summe</td><td>25</td><td>25</td><td>0</td></tr></table>]"
      ],
      "text/plain": [
       "<IPython.core.display.Markdown object>"
      ]
     },
     "execution_count": 6,
     "metadata": {},
     "output_type": "execute_result"
    }
   ],
   "source": [
    "prompt2 = prompt+\"\\n\\nIt is common that the header of the tables include two cells where the year number of two consecutive years is written. For example: 2021/2022.\"\n",
    "completion = client.chat.completions.create(\n",
    "    model=\"Qwen/Qwen2.5-7B\",\n",
    "    messages=[{\n",
    "        \"role\": \"user\",\n",
    "        \"content\": prompt2,\n",
    "    }],\n",
    "    extra_body={\n",
    "        \"guided_grammar\": HTML_TABLE_GRAMMAR\n",
    "        },\n",
    ")\n",
    "\n",
    "from IPython.display import Markdown\n",
    "print(completion.choices[0].message.content)\n",
    "Markdown(completion.choices[0].message.content)"
   ]
  },
  {
   "cell_type": "code",
   "execution_count": 12,
   "id": "fa1642e2",
   "metadata": {},
   "outputs": [
    {
     "name": "stdout",
     "output_type": "stream",
     "text": [
      "[<table><tr><td>dege\n",
      "wo AG 2023 2022 Veränderung </td><td>TEUR TEUR TEUR </td><td>-Hau\n",
      "sbewirtschaftung 69.875 58.863 11.012 </td><td>davon Sollmieten 49.462\n",
      "46.302 3.160 </td><td>Erlöse aus Umlagenabrechnung 22.408 14.582 7.826 </td><td>Sonstige Erlöse 862 844 18 </td><td>Öffentliche Fördermittel 858 401 457 </td><td>Erlösschmälerungen -3.716\n",
      "-3.266 -450 </td></tr></table>]\n"
     ]
    },
    {
     "data": {
      "text/markdown": [
       "[<table><tr><td>dege\n",
       "wo AG 2023 2022 Veränderung </td><td>TEUR TEUR TEUR </td><td>-Hau\n",
       "sbewirtschaftung 69.875 58.863 11.012 </td><td>davon Sollmieten 49.462\n",
       "46.302 3.160 </td><td>Erlöse aus Umlagenabrechnung 22.408 14.582 7.826 </td><td>Sonstige Erlöse 862 844 18 </td><td>Öffentliche Fördermittel 858 401 457 </td><td>Erlösschmälerungen -3.716\n",
       "-3.266 -450 </td></tr></table>]"
      ],
      "text/plain": [
       "<IPython.core.display.Markdown object>"
      ]
     },
     "execution_count": 12,
     "metadata": {},
     "output_type": "execute_result"
    }
   ],
   "source": [
    "real_table = \"../benchmark_tables/realistic_tables_german_finance.pdf\"\n",
    "\n",
    "reader = PdfReader(real_table)\n",
    "page = reader.pages[0]\n",
    "\n",
    "prompt = (f\"Generate a list of HTML code for the three tables contained in this text:\\n\\n'''{page.extract_text()}'''\\n\\nBeside the three tables there is also some text in the document. It can be sentences or just a heading. You have to omitt it.\\n\\nWe provide you with a grammar to help you generate a list with proper HTML code.\")\n",
    "completion = client.chat.completions.create(\n",
    "    model=\"Qwen/Qwen2.5-7B\",\n",
    "    messages=[{\n",
    "        \"role\": \"user\",\n",
    "        \"content\": prompt,\n",
    "    }],\n",
    "    extra_body={\n",
    "        \"guided_grammar\": HTML_TABLE_GRAMMAR\n",
    "        },\n",
    ")\n",
    "\n",
    "from IPython.display import Markdown\n",
    "print(completion.choices[0].message.content)\n",
    "Markdown(completion.choices[0].message.content)"
   ]
  },
  {
   "cell_type": "code",
   "execution_count": 14,
   "id": "76a6703d",
   "metadata": {},
   "outputs": [
    {
     "name": "stdout",
     "output_type": "stream",
     "text": [
      "[<table><tr><td>dege</td><td>wo AG</td><td>2023</td><td>2022</td><td>Veränderung</td></tr><tr><td>TEUR</td><td>TEUR</td><td>TEUR</td></tr><tr><td>– Hau</td><td>sbewirtschaftung</td><td>69.875</td><td>58.863</td><td>11.012</td></tr><tr><td>davon</td><td>Sollmieten</td><td>49.462</td><td>46.302</td><td>3.160</td></tr><tr><td>Erlöse aus Umlagenabrechnung</td><td>22.408</td><td>14.582</td><td>7.826</td></tr><tr><td>Sonstige Erlöse</td><td>862</td><td>844</td><td>18</td></tr><tr><td>Öffentliche Fördermittel</td><td>858</td><td>401</td><td>457</td></tr><tr><td>Erlösschmälerungen</td><td>-3.716</td><td>-3.266</td><td>-450</td></tr><tr><td>– Verkauf von Grundstücken</td><td>0</td><td>0</td><td>0</td></tr><tr><td>– Betreuunsgtätigkeit</td><td>67.965</td><td>66.852</td><td>1.113</td></tr><tr><td>– andere Leistungen und Lief\n",
      "erungen</td><td>1.694</td><td>855</td><td>839</td></tr><tr><td>139.534</td><td>126.570</td><td>12.964</td></tr><tr><td>Gemäß </td><td>Wirtschaftsplanung</td><td>waren Erlöse aus Sollmieten für den Konzern in Höhe von </td><td>EUR 420 Mio. erwartet. Realisierte Ankäufe und Neubauten führten zu höheren Sollmieten von </td><td>EUR 422 Mio. :</td></tr><tr><td>Wohnungswirtschaftliche Kennziffern: </td><td>degewo Konzern</td><td>2023</td><td>2022</td></tr><tr><td>durch</td><td>schnittliche Sollmiete Wohnungen</td><td>EUR/m²/M</td><td>onat 6,55 6,48</td></tr><tr><td>Erlösschmälerungen absolut </td><td>(Leerstand, Mietminderung, -verzicht, Betriebskosten)</td><td>TEUR</td><td>-14.374 -13.472</td></tr><tr><td>Erlösschmälerungen aus Leerstand im Verhältnis </td><td>zu Sollmieten Wohnungen</td><td>% 1,9 1,9</td></tr><tr><td>zu Sollmieten Gewerbe</td><td>% 1,9 2,0</td></tr><tr><td>zu Sollmieten sonstige Einheiten</td><td>% 10,4 10,7</td></tr><tr><td>Modernisierungs-/Instandhaltungsausgaben</td><td>EUR/m²/</td><td>Jahr 26,05 20,02</td><td>Jahr 26,05 20,02</td></tr><tr><td>Gemäß Wirtschaftsplanung</td><td>ware im degewo Konzern für Wohnungen eine durchschnittliche Sollmiete </td><td>von 6,55 EUR/m²/Monat prognostiziert und auch erzielt.</td></tr><tr><td>degewo AG</td><td>2023</td><td>2022</td></tr><tr><td>durch</td><td>schnittliche Sollmiete Wohnungen</td><td>EUR/m²/M</td><td>onat 7,40 7,35</td></tr><tr><td>Erlösschmälerungen absolut </td><td>(Leerstand, Mietminderung, -verzicht, Betriebskosten)</td><td>TEUR</td><td>-3.716 -3.266</td></tr><tr><td>Erlösschmälerungen aus Leerstand im Verhältnis </td><td>zu Sollmieten Wohnungen</td><td>% 3,8 3,8</td></tr><tr><td>zu Sollmieten Gewerbe</td><td>% 3,5 3,2</td></tr><tr><td>zu Sollmieten sonstige Einheiten</td><td>% 12,0 13,9</td></tr><tr><td>Modernisierungs-/Instandhaltungsausgaben</td><td>EUR/m²/</td><td>Jahr 27,43 19,85</td><td>Jah 27,43 19,85</td></tr><tr><td>Anlage II</td><td>Seite 8</td></tr></table>]\n"
     ]
    },
    {
     "data": {
      "text/markdown": [
       "[<table><tr><td>dege</td><td>wo AG</td><td>2023</td><td>2022</td><td>Veränderung</td></tr><tr><td>TEUR</td><td>TEUR</td><td>TEUR</td></tr><tr><td>– Hau</td><td>sbewirtschaftung</td><td>69.875</td><td>58.863</td><td>11.012</td></tr><tr><td>davon</td><td>Sollmieten</td><td>49.462</td><td>46.302</td><td>3.160</td></tr><tr><td>Erlöse aus Umlagenabrechnung</td><td>22.408</td><td>14.582</td><td>7.826</td></tr><tr><td>Sonstige Erlöse</td><td>862</td><td>844</td><td>18</td></tr><tr><td>Öffentliche Fördermittel</td><td>858</td><td>401</td><td>457</td></tr><tr><td>Erlösschmälerungen</td><td>-3.716</td><td>-3.266</td><td>-450</td></tr><tr><td>– Verkauf von Grundstücken</td><td>0</td><td>0</td><td>0</td></tr><tr><td>– Betreuunsgtätigkeit</td><td>67.965</td><td>66.852</td><td>1.113</td></tr><tr><td>– andere Leistungen und Lief\n",
       "erungen</td><td>1.694</td><td>855</td><td>839</td></tr><tr><td>139.534</td><td>126.570</td><td>12.964</td></tr><tr><td>Gemäß </td><td>Wirtschaftsplanung</td><td>waren Erlöse aus Sollmieten für den Konzern in Höhe von </td><td>EUR 420 Mio. erwartet. Realisierte Ankäufe und Neubauten führten zu höheren Sollmieten von </td><td>EUR 422 Mio. :</td></tr><tr><td>Wohnungswirtschaftliche Kennziffern: </td><td>degewo Konzern</td><td>2023</td><td>2022</td></tr><tr><td>durch</td><td>schnittliche Sollmiete Wohnungen</td><td>EUR/m²/M</td><td>onat 6,55 6,48</td></tr><tr><td>Erlösschmälerungen absolut </td><td>(Leerstand, Mietminderung, -verzicht, Betriebskosten)</td><td>TEUR</td><td>-14.374 -13.472</td></tr><tr><td>Erlösschmälerungen aus Leerstand im Verhältnis </td><td>zu Sollmieten Wohnungen</td><td>% 1,9 1,9</td></tr><tr><td>zu Sollmieten Gewerbe</td><td>% 1,9 2,0</td></tr><tr><td>zu Sollmieten sonstige Einheiten</td><td>% 10,4 10,7</td></tr><tr><td>Modernisierungs-/Instandhaltungsausgaben</td><td>EUR/m²/</td><td>Jahr 26,05 20,02</td><td>Jahr 26,05 20,02</td></tr><tr><td>Gemäß Wirtschaftsplanung</td><td>ware im degewo Konzern für Wohnungen eine durchschnittliche Sollmiete </td><td>von 6,55 EUR/m²/Monat prognostiziert und auch erzielt.</td></tr><tr><td>degewo AG</td><td>2023</td><td>2022</td></tr><tr><td>durch</td><td>schnittliche Sollmiete Wohnungen</td><td>EUR/m²/M</td><td>onat 7,40 7,35</td></tr><tr><td>Erlösschmälerungen absolut </td><td>(Leerstand, Mietminderung, -verzicht, Betriebskosten)</td><td>TEUR</td><td>-3.716 -3.266</td></tr><tr><td>Erlösschmälerungen aus Leerstand im Verhältnis </td><td>zu Sollmieten Wohnungen</td><td>% 3,8 3,8</td></tr><tr><td>zu Sollmieten Gewerbe</td><td>% 3,5 3,2</td></tr><tr><td>zu Sollmieten sonstige Einheiten</td><td>% 12,0 13,9</td></tr><tr><td>Modernisierungs-/Instandhaltungsausgaben</td><td>EUR/m²/</td><td>Jahr 27,43 19,85</td><td>Jah 27,43 19,85</td></tr><tr><td>Anlage II</td><td>Seite 8</td></tr></table>]"
      ],
      "text/plain": [
       "<IPython.core.display.Markdown object>"
      ]
     },
     "execution_count": 14,
     "metadata": {},
     "output_type": "execute_result"
    }
   ],
   "source": [
    "prompt2 = prompt+\"\\n\\nIt is common that the header of the tables include two cells where the year number of two consecutive years is written. For example: 2021/2022.\"\n",
    "completion = client.chat.completions.create(\n",
    "    model=\"Qwen/Qwen2.5-7B\",\n",
    "    messages=[{\n",
    "        \"role\": \"user\",\n",
    "        \"content\": prompt2,\n",
    "    }],\n",
    "    extra_body={\n",
    "        \"guided_grammar\": HTML_TABLE_GRAMMAR\n",
    "        },\n",
    ")\n",
    "\n",
    "from IPython.display import Markdown\n",
    "print(completion.choices[0].message.content)\n",
    "Markdown(completion.choices[0].message.content)"
   ]
  },
  {
   "cell_type": "code",
   "execution_count": 13,
   "id": "d4bb5265",
   "metadata": {},
   "outputs": [
    {
     "name": "stdout",
     "output_type": "stream",
     "text": [
      "../Geschaeftsberichte/bb_2024_gesamt.pdf\n",
      "../Geschaeftsberichte/Berliner Bäder Betriebe/GB_BBB_Infra_2022_low.pdf\n",
      "../Geschaeftsberichte/Berliner Bäder Betriebe/2023_Geschaeftsbericht_BBB.pdf\n",
      "../Geschaeftsberichte/Berliner Bäder Betriebe/GB_BBB_Infra_2020.pdf\n",
      "../Geschaeftsberichte/Berliner Bäder Betriebe/2020_Geschaeftsbericht_BBB.pdf\n",
      "../Geschaeftsberichte/Berliner Bäder Betriebe/GB_BBB_Infra_2023.pdf\n",
      "../Geschaeftsberichte/Berliner Bäder Betriebe/2021_Geschaeftsbericht_BBB.pdf\n",
      "../Geschaeftsberichte/Berliner Bäder Betriebe/GB_BBB_Infra_2019.pdf\n",
      "../Geschaeftsberichte/Berliner Bäder Betriebe/2022_Geschaeftsbericht_BBB.pdf\n",
      "../Geschaeftsberichte/Berliner Bäder Betriebe/2019_Geschaeftsbericht_BBB.pdf\n",
      "../Geschaeftsberichte/Berliner Bäder Betriebe/GB_BBB_Infra_2021.pdf\n",
      "../Geschaeftsberichte/IBB/ibb_geschaeftsbericht_2017.pdf\n",
      "../Geschaeftsberichte/IBB/ibb-jahresabschluss-und-lagebericht-2023.pdf\n",
      "../Geschaeftsberichte/IBB/ibb_geschaeftsbericht_2020.pdf\n",
      "../Geschaeftsberichte/IBB/ibb_geschaeftsbericht_2013.pdf\n",
      "../Geschaeftsberichte/IBB/ibb_geschaeftsbericht_2014.pdf\n",
      "../Geschaeftsberichte/IBB/ibb-geschaeftsbericht-2021.pdf\n",
      "../Geschaeftsberichte/IBB/ibb_digitaler_geschaeftsbericht_2017.pdf\n",
      "../Geschaeftsberichte/IBB/ibb_geschaeftsbericht_2007.pdf\n",
      "../Geschaeftsberichte/IBB/ibb_geschaeftsbericht_2008.pdf\n",
      "../Geschaeftsberichte/IBB/ibb_geschaeftsbericht_2011.pdf\n",
      "../Geschaeftsberichte/IBB/ibb_geschaeftsbericht_2012.pdf\n",
      "../Geschaeftsberichte/IBB/ibb_geschaeftsbericht_2010.pdf\n",
      "../Geschaeftsberichte/IBB/ibb_geschaeftsbericht_2015.pdf\n",
      "../Geschaeftsberichte/IBB/ibb_geschaeftsbericht_2019.pdf\n",
      "../Geschaeftsberichte/IBB/ibb_geschaeftsbericht_2009.pdf\n",
      "../Geschaeftsberichte/IBB/ibb_geschaeftsbericht_2004.pdf\n",
      "../Geschaeftsberichte/IBB/ibb-jahresabschluss-und-lagebericht-2024.pdf\n",
      "../Geschaeftsberichte/IBB/ibb_geschaeftsbericht_2006.pdf\n",
      "../Geschaeftsberichte/IBB/ibb_geschaeftsbericht_2005.pdf\n",
      "../Geschaeftsberichte/IBB/ibb_geschaeftsbericht_2016.pdf\n",
      "../Geschaeftsberichte/IBB/ibb_geschaeftsbericht_2018.pdf\n",
      "../Geschaeftsberichte/IBB/ibb-jahresabschluss-und-lagebericht-2022.pdf\n",
      "../Geschaeftsberichte/Berlinovo/geschaeftsbericht_berlinovo_2017_0.pdf\n",
      "../Geschaeftsberichte/Berlinovo/040815_berlinovo_gb_online_rz.pdf\n",
      "../Geschaeftsberichte/Berlinovo/berlinovo_gb_2016_online_2.pdf\n",
      "../Geschaeftsberichte/Berlinovo/berlinovo_Finanzbericht_2023_barrierearm.pdf\n",
      "../Geschaeftsberichte/Berlinovo/020712_BIH_Jaresabschluss_2010_online.pdf\n",
      "../Geschaeftsberichte/Berlinovo/210512_BIH_Jahresabschluss_2011_online.pdf\n",
      "../Geschaeftsberichte/Berlinovo/070813_GB_berlinovo_2012_screen%2520-%2520Korrekturfassung.pdf\n",
      "../Geschaeftsberichte/Berlinovo/Finanzbericht_Berlinovo_2022_bf_s.pdf\n",
      "../Geschaeftsberichte/Berlinovo/berlinovo_Finanzbericht_2023.pdf\n",
      "../Geschaeftsberichte/Berlinovo/200514_gb_2013_online_2.pdf\n",
      "../Geschaeftsberichte/Berlinovo/berlinovo_gb_2015_online_0.pdf\n",
      "../Geschaeftsberichte/Berlinovo/berlinovo_gb2019_s.pdf\n",
      "../Geschaeftsberichte/Berlinovo/berlinovo_Finanzbericht_2021.pdf\n",
      "../Geschaeftsberichte/Berlinovo/Finanzbericht_Berlinovo_2022_s.pdf\n",
      "../Geschaeftsberichte/Berlinovo/berlinovo_gb2018_s.pdf\n",
      "../Geschaeftsberichte/Amt für Statistik Berlin-Brandenburg/AP_Geschaeftsbericht_DE_2019_BBB.pdf\n",
      "../Geschaeftsberichte/Amt für Statistik Berlin-Brandenburg/AP_Geschaeftsbericht_DE_2021_BBB.pdf\n",
      "../Geschaeftsberichte/Amt für Statistik Berlin-Brandenburg/AP_Geschaeftsbericht_DE_2023_BBB.pdf\n",
      "../Geschaeftsberichte/Amt für Statistik Berlin-Brandenburg/AP_Geschaeftsbericht_DE_2011_BBB.pdf\n",
      "../Geschaeftsberichte/Amt für Statistik Berlin-Brandenburg/AP_Geschaeftsbericht_DE_2018_BBB.pdf\n",
      "../Geschaeftsberichte/Amt für Statistik Berlin-Brandenburg/AP_Geschaeftsbericht_DE_2022_BBB.pdf\n",
      "../Geschaeftsberichte/Amt für Statistik Berlin-Brandenburg/AP_Geschaeftsbericht_DE_2016_BBB.pdf\n",
      "../Geschaeftsberichte/Amt für Statistik Berlin-Brandenburg/AP_Geschaeftsbericht_DE_2009_BBB.pdf\n",
      "../Geschaeftsberichte/Amt für Statistik Berlin-Brandenburg/AP_Geschaeftsbericht_DE_2014_BBB.pdf\n",
      "../Geschaeftsberichte/Amt für Statistik Berlin-Brandenburg/AP_Geschaeftsbericht_DE_2007_BBB.pdf\n",
      "../Geschaeftsberichte/degewo AG/2017_degewo_degewo_Homepage.pdf\n",
      "Skipping OCR required file: ../Geschaeftsberichte/degewo AG/2017_degewo_degewo_Homepage.pdf\n",
      "../Geschaeftsberichte/degewo AG/2019_degewo_Konzernbericht_und_Gleicher_Lohn_fuer_gleiche_Arbeit.pdf\n",
      "Skipping OCR required file: ../Geschaeftsberichte/degewo AG/2019_degewo_Konzernbericht_und_Gleicher_Lohn_fuer_gleiche_Arbeit.pdf\n",
      "../Geschaeftsberichte/degewo AG/degewo_Konzernlagebericht_Konzernabschluss_2022.pdf\n",
      "../Geschaeftsberichte/degewo AG/2018_degewo_Konzernlagebericht_und_Konzernabschluss_fuer_das_Geschaeftsjahr.pdf\n",
      "Skipping OCR required file: ../Geschaeftsberichte/degewo AG/2018_degewo_Konzernlagebericht_und_Konzernabschluss_fuer_das_Geschaeftsjahr.pdf\n",
      "../Geschaeftsberichte/degewo AG/212131_degewo_2022_Konzernlagebericht_Konzernabschluss.pdf\n",
      "../Geschaeftsberichte/degewo AG/201231_degewo_Konzernlagebericht_Konzernabschluss.pdf\n",
      "../Geschaeftsberichte/degewo AG/240618-degewo-konzernlagerbericht-konzernabschluss-2023.pdf\n",
      "../Geschaeftsberichte/Berlin Energie und Netzholding/Jahresabschluss_2021_BEN_GmbH.pdf\n",
      "../Geschaeftsberichte/Berlin Energie und Netzholding/Jahresabschluss-BEN-GmbH-2023.pdf\n",
      "../Geschaeftsberichte/Berlin Energie und Netzholding/SIGNATURE_DEE00084236.1.1_550912_Endexemplar_20230331.pdf\n",
      "../Geschaeftsberichte/GESOBAU AG/GESOBAU_Geschaeftsbericht_2019.pdf\n",
      "../Geschaeftsberichte/GESOBAU AG/GESOBAU_Geschaeftsbericht_2018.pdf\n",
      "../Geschaeftsberichte/GESOBAU AG/GESOBAU_Gesch%C3%A4ftsbericht_2020.pdf\n",
      "../Geschaeftsberichte/GESOBAU AG/GESOBAU_Gesch%C3%A4ftsbericht_2021.pdf\n",
      "../Geschaeftsberichte/GESOBAU AG/GESOBAU_Geschaftsbericht_2023_bf.pdf\n",
      "../Geschaeftsberichte/GESOBAU AG/GESOBAU_Geschaeftsbericht_2012.pdf\n",
      "../Geschaeftsberichte/GESOBAU AG/Gesch%C3%A4ftsbericht_2022_bf.pdf\n",
      "../Geschaeftsberichte/GESOBAU AG/GESOBAU_Geschaeftsbericht_2013.pdf\n",
      "../Geschaeftsberichte/GESOBAU AG/GESOBAU_Geschaeftsbericht_2015.pdf\n",
      "../Geschaeftsberichte/GESOBAU AG/GESOBAU_Gesch%C3%A4ftsbericht_2024.pdf\n",
      "../Geschaeftsberichte/GESOBAU AG/GESOBAU_Geschaeftsbericht_2014.pdf\n",
      "../Geschaeftsberichte/GESOBAU AG/GESOBAU_Geschaeftsbericht_2016.pdf\n",
      "../Geschaeftsberichte/GESOBAU AG/GESOBAU_Geschaeftsbericht_2017.pdf\n",
      "Search completed. Results saved to bilanz_search_results.csv.\n"
     ]
    }
   ],
   "source": [
    "import os\n",
    "from pypdf import PdfReader\n",
    "import pandas as pd\n",
    "import re\n",
    "\n",
    "# Define the search term and the directory\n",
    "search_terms = [\n",
    "    (\"Aktiva\", r\"20\\d{2}\"), \n",
    "    (\"Passiva\", r\"20\\d{2}\"), \n",
    "    (\"Gewinn\", \"Verlust\", \"Rechnung\", r\"20\\d{2}\")\n",
    "]\n",
    "base_dir = \"../Geschaeftsberichte/\"\n",
    "\n",
    "ocr_required = [\n",
    "    \"Geschaeftsberichte/degewo AG/2017_degewo_degewo_Homepage.pdf\",\n",
    "    \"Geschaeftsberichte/degewo AG/2018_degewo_Konzernlagebericht_und_Konzernabschluss_fuer_das_Geschaeftsjahr.pdf\",\n",
    "    \"Geschaeftsberichte/degewo AG/2019_degewo_Konzernbericht_und_Gleicher_Lohn_fuer_gleiche_Arbeit.pdf\",\n",
    "]\n",
    "\n",
    "# Initialize a list to store results\n",
    "results = []\n",
    "\n",
    "# Recursively search through the directory\n",
    "for root, _, files in os.walk(base_dir):\n",
    "    for file in files:\n",
    "        if file.endswith(\".pdf\"):\n",
    "            filepath = os.path.join(root, file)\n",
    "            print(filepath)\n",
    "            if filepath == \"../Geschaeftsberichte/bb_2024_gesamt.pdf\":\n",
    "                continue\n",
    "            if filepath[3:] in ocr_required:\n",
    "                print(f\"Skipping OCR required file: {filepath}\")\n",
    "                continue\n",
    "            \n",
    "            try:\n",
    "                # Open the PDF file\n",
    "                reader = PdfReader(filepath)\n",
    "                for page_num, page in enumerate(reader.pages):\n",
    "                    text = page.extract_text()\n",
    "                    for terms in search_terms:\n",
    "                        # Check if all terms in the tuple are found on the page\n",
    "                        if all(\n",
    "                            re.search(term, text, re.IGNORECASE) if isinstance(term, str) else False\n",
    "                            for term in terms\n",
    "                        ):\n",
    "                            match = re.search(terms[0], text, re.IGNORECASE)\n",
    "                            if match:\n",
    "                                start_idx = match.start()\n",
    "                                context = text[max(0, start_idx - 50):start_idx + 50]\n",
    "                                results.append({\n",
    "                                    \"filepath\": filepath,\n",
    "                                    \"page\": page_num + 1,\n",
    "                                    \"type\": terms[0],\n",
    "                                    \"context\": context.strip()\n",
    "                                })\n",
    "            except Exception as e:\n",
    "                print(f\"Error reading {filepath}: {e}\")\n",
    "\n",
    "# Convert results to a DataFrame\n",
    "df = pd.DataFrame(results, columns=[\"filepath\", \"filename\", \"page\", \"context\"])\n",
    "\n",
    "# Save the results to a CSV file\n",
    "output_csv = \"bilanz_search_results.csv\"\n",
    "df.to_csv(output_csv, index=False)\n",
    "\n",
    "print(f\"Search completed. Results saved to {output_csv}.\")"
   ]
  },
  {
   "cell_type": "code",
   "execution_count": null,
   "id": "81360c79",
   "metadata": {},
   "outputs": [],
   "source": []
  }
 ],
 "metadata": {
  "kernelspec": {
   "display_name": "thesis",
   "language": "python",
   "name": "python3"
  },
  "language_info": {
   "codemirror_mode": {
    "name": "ipython",
    "version": 3
   },
   "file_extension": ".py",
   "mimetype": "text/x-python",
   "name": "python",
   "nbconvert_exporter": "python",
   "pygments_lexer": "ipython3",
   "version": "3.13.2"
  }
 },
 "nbformat": 4,
 "nbformat_minor": 5
}
