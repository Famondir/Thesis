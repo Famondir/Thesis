{
 "cells": [
  {
   "cell_type": "code",
   "execution_count": 7,
   "id": "57dddb14",
   "metadata": {},
   "outputs": [
    {
     "name": "stdout",
     "output_type": "stream",
     "text": [
      "../Geschaeftsberichte/Berliner Bäder Betriebe/GB_BBB_Infra_2022_low.pdf: 54\n",
      "../Geschaeftsberichte/Berliner Bäder Betriebe/2023_Geschaeftsbericht_BBB.pdf: 37\n",
      "../Geschaeftsberichte/Berliner Bäder Betriebe/GB_BBB_Infra_2020.pdf: 52\n",
      "../Geschaeftsberichte/Berliner Bäder Betriebe/2020_Geschaeftsbericht_BBB.pdf: 58\n",
      "../Geschaeftsberichte/Berliner Bäder Betriebe/GB_BBB_Infra_2023.pdf: 49\n",
      "../Geschaeftsberichte/Berliner Bäder Betriebe/2021_Geschaeftsbericht_BBB.pdf: 58\n",
      "../Geschaeftsberichte/Berliner Bäder Betriebe/GB_BBB_Infra_2019.pdf: 27\n",
      "../Geschaeftsberichte/Berliner Bäder Betriebe/2022_Geschaeftsbericht_BBB.pdf: 44\n",
      "../Geschaeftsberichte/Berliner Bäder Betriebe/2019_Geschaeftsbericht_BBB.pdf: 31\n",
      "../Geschaeftsberichte/Berliner Bäder Betriebe/GB_BBB_Infra_2021.pdf: 50\n",
      "../Geschaeftsberichte/IBB/ibb_geschaeftsbericht_2017.pdf: 60\n",
      "../Geschaeftsberichte/IBB/ibb-jahresabschluss-und-lagebericht-2023.pdf: 78\n",
      "../Geschaeftsberichte/IBB/ibb_geschaeftsbericht_2020.pdf: 72\n",
      "../Geschaeftsberichte/IBB/ibb_geschaeftsbericht_2013.pdf: 132\n",
      "../Geschaeftsberichte/IBB/ibb_geschaeftsbericht_2014.pdf: 104\n",
      "../Geschaeftsberichte/IBB/ibb-geschaeftsbericht-2021.pdf: 88\n",
      "../Geschaeftsberichte/IBB/ibb_digitaler_geschaeftsbericht_2017.pdf: 19\n",
      "../Geschaeftsberichte/IBB/ibb_geschaeftsbericht_2007.pdf: 104\n",
      "../Geschaeftsberichte/IBB/ibb_geschaeftsbericht_2008.pdf: 104\n",
      "../Geschaeftsberichte/IBB/ibb_geschaeftsbericht_2011.pdf: 150\n",
      "../Geschaeftsberichte/IBB/ibb_geschaeftsbericht_2012.pdf: 152\n",
      "../Geschaeftsberichte/IBB/ibb_geschaeftsbericht_2010.pdf: 140\n",
      "../Geschaeftsberichte/IBB/ibb_geschaeftsbericht_2015.pdf: 64\n",
      "../Geschaeftsberichte/IBB/ibb_geschaeftsbericht_2019.pdf: 60\n",
      "../Geschaeftsberichte/IBB/ibb_geschaeftsbericht_2009.pdf: 121\n",
      "../Geschaeftsberichte/IBB/ibb_geschaeftsbericht_2004.pdf: 96\n",
      "../Geschaeftsberichte/IBB/ibb-jahresabschluss-und-lagebericht-2024.pdf: 68\n",
      "../Geschaeftsberichte/IBB/ibb_geschaeftsbericht_2006.pdf: 100\n",
      "../Geschaeftsberichte/IBB/ibb_geschaeftsbericht_2005.pdf: 96\n",
      "../Geschaeftsberichte/IBB/ibb_geschaeftsbericht_2016.pdf: 64\n",
      "../Geschaeftsberichte/IBB/ibb_geschaeftsbericht_2018.pdf: 63\n",
      "../Geschaeftsberichte/IBB/ibb-jahresabschluss-und-lagebericht-2022.pdf: 78\n",
      "../Geschaeftsberichte/Berlinovo/geschaeftsbericht_berlinovo_2017_0.pdf: 73\n",
      "../Geschaeftsberichte/Berlinovo/040815_berlinovo_gb_online_rz.pdf: 94\n",
      "../Geschaeftsberichte/Berlinovo/berlinovo_gb_2016_online_2.pdf: 74\n",
      "../Geschaeftsberichte/Berlinovo/berlinovo_Finanzbericht_2023_barrierearm.pdf: 91\n",
      "../Geschaeftsberichte/Berlinovo/020712_BIH_Jaresabschluss_2010_online.pdf: 52\n",
      "../Geschaeftsberichte/Berlinovo/210512_BIH_Jahresabschluss_2011_online.pdf: 56\n",
      "../Geschaeftsberichte/Berlinovo/070813_GB_berlinovo_2012_screen%2520-%2520Korrekturfassung.pdf: 103\n",
      "../Geschaeftsberichte/Berlinovo/Finanzbericht_Berlinovo_2022_bf_s.pdf: 79\n",
      "../Geschaeftsberichte/Berlinovo/berlinovo_Finanzbericht_2023.pdf: 91\n",
      "../Geschaeftsberichte/Berlinovo/200514_gb_2013_online_2.pdf: 101\n",
      "../Geschaeftsberichte/Berlinovo/berlinovo_gb_2015_online_0.pdf: 96\n",
      "../Geschaeftsberichte/Berlinovo/berlinovo_gb2019_s.pdf: 48\n",
      "../Geschaeftsberichte/Berlinovo/berlinovo_Finanzbericht_2021.pdf: 75\n",
      "../Geschaeftsberichte/Berlinovo/Finanzbericht_Berlinovo_2022_s.pdf: 79\n",
      "../Geschaeftsberichte/Berlinovo/berlinovo_gb2018_s.pdf: 43\n",
      "../Geschaeftsberichte/Amt für Statistik Berlin-Brandenburg/AP_Geschaeftsbericht_DE_2019_BBB.pdf: 44\n",
      "../Geschaeftsberichte/Amt für Statistik Berlin-Brandenburg/AP_Geschaeftsbericht_DE_2021_BBB.pdf: 20\n",
      "../Geschaeftsberichte/Amt für Statistik Berlin-Brandenburg/AP_Geschaeftsbericht_DE_2023_BBB.pdf: 20\n",
      "../Geschaeftsberichte/Amt für Statistik Berlin-Brandenburg/AP_Geschaeftsbericht_DE_2011_BBB.pdf: 24\n",
      "../Geschaeftsberichte/Amt für Statistik Berlin-Brandenburg/AP_Geschaeftsbericht_DE_2018_BBB.pdf: 40\n",
      "../Geschaeftsberichte/Amt für Statistik Berlin-Brandenburg/AP_Geschaeftsbericht_DE_2022_BBB.pdf: 20\n",
      "../Geschaeftsberichte/Amt für Statistik Berlin-Brandenburg/AP_Geschaeftsbericht_DE_2016_BBB.pdf: 40\n",
      "../Geschaeftsberichte/Amt für Statistik Berlin-Brandenburg/AP_Geschaeftsbericht_DE_2009_BBB.pdf: 32\n",
      "../Geschaeftsberichte/Amt für Statistik Berlin-Brandenburg/AP_Geschaeftsbericht_DE_2014_BBB.pdf: 32\n",
      "../Geschaeftsberichte/Amt für Statistik Berlin-Brandenburg/AP_Geschaeftsbericht_DE_2007_BBB.pdf: 21\n",
      "../Geschaeftsberichte/degewo AG/2017_degewo_degewo_Homepage.pdf: 50\n",
      "../Geschaeftsberichte/degewo AG/2019_degewo_Konzernbericht_und_Gleicher_Lohn_fuer_gleiche_Arbeit.pdf: 52\n",
      "../Geschaeftsberichte/degewo AG/degewo_Konzernlagebericht_Konzernabschluss_2022.pdf: 48\n",
      "../Geschaeftsberichte/degewo AG/2018_degewo_Konzernlagebericht_und_Konzernabschluss_fuer_das_Geschaeftsjahr.pdf: 51\n",
      "../Geschaeftsberichte/degewo AG/212131_degewo_2022_Konzernlagebericht_Konzernabschluss.pdf: 56\n",
      "../Geschaeftsberichte/degewo AG/201231_degewo_Konzernlagebericht_Konzernabschluss.pdf: 54\n",
      "../Geschaeftsberichte/degewo AG/240618-degewo-konzernlagerbericht-konzernabschluss-2023.pdf: 20\n",
      "../Geschaeftsberichte/Berlin Energie und Netzholding/Jahresabschluss_2021_BEN_GmbH.pdf: 38\n",
      "../Geschaeftsberichte/Berlin Energie und Netzholding/Jahresabschluss-BEN-GmbH-2023.pdf: 56\n",
      "../Geschaeftsberichte/Berlin Energie und Netzholding/SIGNATURE_DEE00084236.1.1_550912_Endexemplar_20230331.pdf: 56\n",
      "../Geschaeftsberichte/GESOBAU AG/GESOBAU_Geschaeftsbericht_2019.pdf: 83\n",
      "../Geschaeftsberichte/GESOBAU AG/GESOBAU_Geschaeftsbericht_2018.pdf: 83\n",
      "../Geschaeftsberichte/GESOBAU AG/GESOBAU_Gesch%C3%A4ftsbericht_2020.pdf: 44\n",
      "../Geschaeftsberichte/GESOBAU AG/GESOBAU_Gesch%C3%A4ftsbericht_2021.pdf: 49\n",
      "../Geschaeftsberichte/GESOBAU AG/GESOBAU_Geschaftsbericht_2023_bf.pdf: 54\n",
      "../Geschaeftsberichte/GESOBAU AG/GESOBAU_Geschaeftsbericht_2012.pdf: 64\n",
      "../Geschaeftsberichte/GESOBAU AG/Gesch%C3%A4ftsbericht_2022_bf.pdf: 48\n",
      "../Geschaeftsberichte/GESOBAU AG/GESOBAU_Geschaeftsbericht_2013.pdf: 64\n",
      "../Geschaeftsberichte/GESOBAU AG/GESOBAU_Geschaeftsbericht_2015.pdf: 64\n",
      "../Geschaeftsberichte/GESOBAU AG/GESOBAU_Gesch%C3%A4ftsbericht_2024.pdf: 94\n",
      "../Geschaeftsberichte/GESOBAU AG/GESOBAU_Geschaeftsbericht_2014.pdf: 64\n",
      "../Geschaeftsberichte/GESOBAU AG/GESOBAU_Geschaeftsbericht_2016.pdf: 65\n",
      "../Geschaeftsberichte/GESOBAU AG/GESOBAU_Geschaeftsbericht_2017.pdf: 78\n"
     ]
    }
   ],
   "source": [
    "import os\n",
    "from pypdf import PdfReader\n",
    "\n",
    "pdf_page_counts = []\n",
    "\n",
    "for root, dirs, files in os.walk(\"../Geschaeftsberichte\"):\n",
    "    for file in files:\n",
    "        if file.lower().endswith(\".pdf\"):\n",
    "            filepath = os.path.join(root, file)\n",
    "            try:\n",
    "                with open(filepath, \"rb\") as f:\n",
    "                    reader = PdfReader(f)\n",
    "                    num_pages = len(reader.pages)\n",
    "                pdf_page_counts.append({'filepath': filepath, 'num_pages': num_pages})\n",
    "            except Exception as e:\n",
    "                pdf_page_counts.append({'filepath': filepath, 'error': f\"Error: {e}\"})\n",
    "\n",
    "for entry in pdf_page_counts:\n",
    "    if 'error' in entry:\n",
    "        print(f\"{entry['filepath']}: {entry['error']}\")\n",
    "    else:\n",
    "        print(f\"{entry['filepath']}: {entry['num_pages']}\")"
   ]
  },
  {
   "cell_type": "code",
   "execution_count": 15,
   "id": "cc221e9e",
   "metadata": {},
   "outputs": [
    {
     "data": {
      "application/vnd.microsoft.datawrangler.viewer.v0+json": {
       "columns": [
        {
         "name": "index",
         "rawType": "int64",
         "type": "integer"
        },
        {
         "name": "company",
         "rawType": "object",
         "type": "string"
        },
        {
         "name": "avg_num_pages",
         "rawType": "float64",
         "type": "float"
        }
       ],
       "ref": "86bb88b0-92e8-4a32-85e3-dceb992ceab8",
       "rows": [
        [
         "5",
         "IBB",
         "91.5"
        ],
        [
         "3",
         "Berlinovo",
         "77.0"
        ],
        [
         "4",
         "GESOBAU AG",
         "65.6923076923077"
        ],
        [
         "1",
         "Berlin Energie und Netzholding",
         "50.0"
        ],
        [
         "6",
         "degewo AG",
         "47.285714285714285"
        ],
        [
         "2",
         "Berliner Bäder Betriebe",
         "46.0"
        ],
        [
         "0",
         "Amt für Statistik Berlin-Brandenburg",
         "29.3"
        ]
       ],
       "shape": {
        "columns": 2,
        "rows": 7
       }
      },
      "text/html": [
       "<div>\n",
       "<style scoped>\n",
       "    .dataframe tbody tr th:only-of-type {\n",
       "        vertical-align: middle;\n",
       "    }\n",
       "\n",
       "    .dataframe tbody tr th {\n",
       "        vertical-align: top;\n",
       "    }\n",
       "\n",
       "    .dataframe thead th {\n",
       "        text-align: right;\n",
       "    }\n",
       "</style>\n",
       "<table border=\"1\" class=\"dataframe\">\n",
       "  <thead>\n",
       "    <tr style=\"text-align: right;\">\n",
       "      <th></th>\n",
       "      <th>company</th>\n",
       "      <th>avg_num_pages</th>\n",
       "    </tr>\n",
       "  </thead>\n",
       "  <tbody>\n",
       "    <tr>\n",
       "      <th>5</th>\n",
       "      <td>IBB</td>\n",
       "      <td>91.500000</td>\n",
       "    </tr>\n",
       "    <tr>\n",
       "      <th>3</th>\n",
       "      <td>Berlinovo</td>\n",
       "      <td>77.000000</td>\n",
       "    </tr>\n",
       "    <tr>\n",
       "      <th>4</th>\n",
       "      <td>GESOBAU AG</td>\n",
       "      <td>65.692308</td>\n",
       "    </tr>\n",
       "    <tr>\n",
       "      <th>1</th>\n",
       "      <td>Berlin Energie und Netzholding</td>\n",
       "      <td>50.000000</td>\n",
       "    </tr>\n",
       "    <tr>\n",
       "      <th>6</th>\n",
       "      <td>degewo AG</td>\n",
       "      <td>47.285714</td>\n",
       "    </tr>\n",
       "    <tr>\n",
       "      <th>2</th>\n",
       "      <td>Berliner Bäder Betriebe</td>\n",
       "      <td>46.000000</td>\n",
       "    </tr>\n",
       "    <tr>\n",
       "      <th>0</th>\n",
       "      <td>Amt für Statistik Berlin-Brandenburg</td>\n",
       "      <td>29.300000</td>\n",
       "    </tr>\n",
       "  </tbody>\n",
       "</table>\n",
       "</div>"
      ],
      "text/plain": [
       "                                company  avg_num_pages\n",
       "5                                   IBB      91.500000\n",
       "3                             Berlinovo      77.000000\n",
       "4                            GESOBAU AG      65.692308\n",
       "1        Berlin Energie und Netzholding      50.000000\n",
       "6                             degewo AG      47.285714\n",
       "2               Berliner Bäder Betriebe      46.000000\n",
       "0  Amt für Statistik Berlin-Brandenburg      29.300000"
      ]
     },
     "execution_count": 15,
     "metadata": {},
     "output_type": "execute_result"
    }
   ],
   "source": [
    "import pandas as pd\n",
    "\n",
    "df = pd.DataFrame(pdf_page_counts)\n",
    "df['company'] = df['filepath'].apply(lambda x: x.split('/')[2] if len(x.split('/')) > 2 else 'Unknown')\n",
    "df.groupby('company').agg({'num_pages': 'mean'}).reset_index().rename(columns={'num_pages': 'avg_num_pages'}).sort_values(by='avg_num_pages', ascending=False)"
   ]
  },
  {
   "cell_type": "code",
   "execution_count": null,
   "id": "655f8b64",
   "metadata": {},
   "outputs": [],
   "source": []
  }
 ],
 "metadata": {
  "kernelspec": {
   "display_name": "llm",
   "language": "python",
   "name": "python3"
  },
  "language_info": {
   "codemirror_mode": {
    "name": "ipython",
    "version": 3
   },
   "file_extension": ".py",
   "mimetype": "text/x-python",
   "name": "python",
   "nbconvert_exporter": "python",
   "pygments_lexer": "ipython3",
   "version": "3.13.2"
  }
 },
 "nbformat": 4,
 "nbformat_minor": 5
}
