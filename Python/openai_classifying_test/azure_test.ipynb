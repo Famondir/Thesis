{
 "cells": [
  {
   "cell_type": "code",
   "execution_count": 5,
   "id": "3bca5714",
   "metadata": {},
   "outputs": [
    {
     "name": "stdout",
     "output_type": "stream",
     "text": [
      "Start\n",
      "Yes, several other Azure AI services support Customer Managed Keys (CMK), allowing you to have control over the encryption keys used to protect your data. Some of the key Azure AI services that support CMK include:\n",
      "\n",
      "1. **Azure Cognitive Services (e.g., Text Analytics, Speech, Translator)**  \n",
      "   - You can enable encryption with customer-managed keys for certain Cognitive Services, depending on the deployment and whether the service supports Bring Your Own Key (BYOK) mechanisms.\n",
      "\n",
      "2. **Azure Machine Learning**  \n",
      "   - Supports CMK for protecting data, model artifacts, and computational resources through integration with Azure Key Vault.\n",
      "\n",
      "3. **Azure OpenAI (as mentioned earlier)**  \n",
      "   - Supports CMK for data protection.\n",
      "\n",
      "**Note:** Support for CMK can vary depending on specific service features, deployment tiers, and regions. It's recommended to verify the latest documentation for each service to confirm CMK support and configuration steps.\n",
      "\n",
      "Would you like details on configuring CMK for a specific Azure AI service?\n",
      "2.602531671524048\n"
     ]
    }
   ],
   "source": [
    "from openai import AzureOpenAI\n",
    "import time\n",
    "import os\n",
    "\n",
    "start = time.time()\n",
    "print(\"Start\")\n",
    "\n",
    "\n",
    "client = AzureOpenAI(\n",
    "  azure_endpoint =os.getenv(\"AZURE_OPENAI_ENDPOINT\") ,\n",
    "  api_key = os.getenv(\"OPENAI_API_KEY\"),  \n",
    "  api_version=os.getenv(\"OPENAI_API_VERSION\")\n",
    ")\n",
    "\n",
    "response = client.chat.completions.create(\n",
    "    model=\"gpt-4.1-nano\", # model = \"deployment_name\".\n",
    "    messages=[\n",
    "        {\"role\": \"system\", \"content\": \"You are a helpful assistant.\"},\n",
    "        {\"role\": \"user\", \"content\": \"Does Azure OpenAI support customer managed keys?\"},\n",
    "        {\"role\": \"assistant\", \"content\": \"Yes, customer managed keys are supported by Azure OpenAI.\"},\n",
    "        {\"role\": \"user\", \"content\": \"Do other Azure AI services support this too?\"}\n",
    "    ]\n",
    ")\n",
    "\n",
    "print(response.choices[0].message.content)\n",
    "end = time.time()\n",
    "print(end - start)"
   ]
  },
  {
   "cell_type": "code",
   "execution_count": null,
   "id": "cfecf5db",
   "metadata": {},
   "outputs": [],
   "source": []
  }
 ],
 "metadata": {
  "kernelspec": {
   "display_name": "llm",
   "language": "python",
   "name": "python3"
  },
  "language_info": {
   "codemirror_mode": {
    "name": "ipython",
    "version": 3
   },
   "file_extension": ".py",
   "mimetype": "text/x-python",
   "name": "python",
   "nbconvert_exporter": "python",
   "pygments_lexer": "ipython3",
   "version": "3.13.2"
  }
 },
 "nbformat": 4,
 "nbformat_minor": 5
}
