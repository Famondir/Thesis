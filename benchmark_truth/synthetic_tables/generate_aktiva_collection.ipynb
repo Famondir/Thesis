{
 "cells": [
  {
   "cell_type": "code",
   "execution_count": 2,
   "id": "d4c500e1",
   "metadata": {},
   "outputs": [
    {
     "data": {
      "application/vnd.microsoft.datawrangler.viewer.v0+json": {
       "columns": [
        {
         "name": "index",
         "rawType": "int64",
         "type": "integer"
        },
        {
         "name": "filepath",
         "rawType": "object",
         "type": "string"
        },
        {
         "name": "page",
         "rawType": "int64",
         "type": "integer"
        },
        {
         "name": "type",
         "rawType": "object",
         "type": "string"
        }
       ],
       "ref": "aedeabb6-6ddf-4a0b-a7da-c62e9de332d4",
       "rows": [
        [
         "0",
         "../Geschaeftsberichte/Berliner Bäder Betriebe/GB_BBB_Infra_2022_low.pdf",
         "10",
         "Aktiva"
        ],
        [
         "3",
         "../Geschaeftsberichte/Berliner Bäder Betriebe/GB_BBB_Infra_2022_low.pdf",
         "28",
         "Aktiva"
        ],
        [
         "6",
         "../Geschaeftsberichte/Berliner Bäder Betriebe/2023_Geschaeftsbericht_BBB.pdf",
         "16",
         "Aktiva"
        ],
        [
         "9",
         "../Geschaeftsberichte/Berliner Bäder Betriebe/GB_BBB_Infra_2020.pdf",
         "10",
         "Aktiva"
        ],
        [
         "12",
         "../Geschaeftsberichte/Berliner Bäder Betriebe/GB_BBB_Infra_2020.pdf",
         "28",
         "Aktiva"
        ],
        [
         "15",
         "../Geschaeftsberichte/Berliner Bäder Betriebe/2020_Geschaeftsbericht_BBB.pdf",
         "36",
         "Aktiva"
        ],
        [
         "18",
         "../Geschaeftsberichte/Berliner Bäder Betriebe/GB_BBB_Infra_2023.pdf",
         "7",
         "Aktiva"
        ],
        [
         "21",
         "../Geschaeftsberichte/Berliner Bäder Betriebe/GB_BBB_Infra_2023.pdf",
         "25",
         "Aktiva"
        ],
        [
         "24",
         "../Geschaeftsberichte/Berliner Bäder Betriebe/2021_Geschaeftsbericht_BBB.pdf",
         "34",
         "Aktiva"
        ],
        [
         "31",
         "../Geschaeftsberichte/Berliner Bäder Betriebe/2022_Geschaeftsbericht_BBB.pdf",
         "20",
         "Aktiva"
        ],
        [
         "36",
         "../Geschaeftsberichte/Berliner Bäder Betriebe/GB_BBB_Infra_2021.pdf",
         "10",
         "Aktiva"
        ],
        [
         "39",
         "../Geschaeftsberichte/Berliner Bäder Betriebe/GB_BBB_Infra_2021.pdf",
         "26",
         "Aktiva"
        ],
        [
         "42",
         "../Geschaeftsberichte/IBB/ibb_geschaeftsbericht_2017.pdf",
         "42",
         "Aktiva"
        ],
        [
         "46",
         "../Geschaeftsberichte/IBB/ibb-jahresabschluss-und-lagebericht-2023.pdf",
         "4",
         "Aktiva"
        ],
        [
         "49",
         "../Geschaeftsberichte/IBB/ibb_geschaeftsbericht_2020.pdf",
         "55",
         "Aktiva"
        ],
        [
         "53",
         "../Geschaeftsberichte/IBB/ibb_geschaeftsbericht_2013.pdf",
         "98",
         "Aktiva"
        ],
        [
         "57",
         "../Geschaeftsberichte/IBB/ibb_geschaeftsbericht_2014.pdf",
         "74",
         "Aktiva"
        ],
        [
         "61",
         "../Geschaeftsberichte/IBB/ibb-geschaeftsbericht-2021.pdf",
         "69",
         "Aktiva"
        ],
        [
         "65",
         "../Geschaeftsberichte/IBB/ibb_digitaler_geschaeftsbericht_2017.pdf",
         "14",
         "Aktiva"
        ],
        [
         "69",
         "../Geschaeftsberichte/IBB/ibb_geschaeftsbericht_2007.pdf",
         "74",
         "Aktiva"
        ],
        [
         "73",
         "../Geschaeftsberichte/IBB/ibb_geschaeftsbericht_2008.pdf",
         "72",
         "Aktiva"
        ],
        [
         "77",
         "../Geschaeftsberichte/IBB/ibb_geschaeftsbericht_2011.pdf",
         "115",
         "Aktiva"
        ],
        [
         "81",
         "../Geschaeftsberichte/IBB/ibb_geschaeftsbericht_2012.pdf",
         "116",
         "Aktiva"
        ],
        [
         "85",
         "../Geschaeftsberichte/IBB/ibb_geschaeftsbericht_2010.pdf",
         "106",
         "Aktiva"
        ],
        [
         "89",
         "../Geschaeftsberichte/IBB/ibb_geschaeftsbericht_2015.pdf",
         "44",
         "Aktiva"
        ],
        [
         "93",
         "../Geschaeftsberichte/IBB/ibb_geschaeftsbericht_2019.pdf",
         "44",
         "Aktiva"
        ],
        [
         "97",
         "../Geschaeftsberichte/IBB/ibb_geschaeftsbericht_2009.pdf",
         "89",
         "Aktiva"
        ],
        [
         "101",
         "../Geschaeftsberichte/IBB/ibb_geschaeftsbericht_2004.pdf",
         "66",
         "Aktiva"
        ],
        [
         "105",
         "../Geschaeftsberichte/IBB/ibb-jahresabschluss-und-lagebericht-2024.pdf",
         "32",
         "Aktiva"
        ],
        [
         "106",
         "../Geschaeftsberichte/IBB/ibb-jahresabschluss-und-lagebericht-2024.pdf",
         "33",
         "Aktiva"
        ],
        [
         "110",
         "../Geschaeftsberichte/IBB/ibb_geschaeftsbericht_2006.pdf",
         "68",
         "Aktiva"
        ],
        [
         "114",
         "../Geschaeftsberichte/IBB/ibb_geschaeftsbericht_2005.pdf",
         "66",
         "Aktiva"
        ],
        [
         "118",
         "../Geschaeftsberichte/IBB/ibb_geschaeftsbericht_2016.pdf",
         "44",
         "Aktiva"
        ],
        [
         "122",
         "../Geschaeftsberichte/IBB/ibb_geschaeftsbericht_2018.pdf",
         "47",
         "Aktiva"
        ],
        [
         "128",
         "../Geschaeftsberichte/Berlinovo/geschaeftsbericht_berlinovo_2017_0.pdf",
         "50",
         "Aktiva"
        ],
        [
         "131",
         "../Geschaeftsberichte/Berlinovo/040815_berlinovo_gb_online_rz.pdf",
         "60",
         "Aktiva"
        ],
        [
         "134",
         "../Geschaeftsberichte/Berlinovo/berlinovo_gb_2016_online_2.pdf",
         "53",
         "Aktiva"
        ],
        [
         "137",
         "../Geschaeftsberichte/Berlinovo/berlinovo_Finanzbericht_2023_barrierearm.pdf",
         "44",
         "Aktiva"
        ],
        [
         "140",
         "../Geschaeftsberichte/Berlinovo/020712_BIH_Jaresabschluss_2010_online.pdf",
         "20",
         "Aktiva"
        ],
        [
         "143",
         "../Geschaeftsberichte/Berlinovo/210512_BIH_Jahresabschluss_2011_online.pdf",
         "20",
         "Aktiva"
        ],
        [
         "146",
         "../Geschaeftsberichte/Berlinovo/070813_GB_berlinovo_2012_screen%2520-%2520Korrekturfassung.pdf",
         "50",
         "Aktiva"
        ],
        [
         "149",
         "../Geschaeftsberichte/Berlinovo/Finanzbericht_Berlinovo_2022_bf_s.pdf",
         "42",
         "Aktiva"
        ],
        [
         "152",
         "../Geschaeftsberichte/Berlinovo/berlinovo_Finanzbericht_2023.pdf",
         "44",
         "Aktiva"
        ],
        [
         "155",
         "../Geschaeftsberichte/Berlinovo/200514_gb_2013_online_2.pdf",
         "40",
         "Aktiva"
        ],
        [
         "158",
         "../Geschaeftsberichte/Berlinovo/berlinovo_gb_2015_online_0.pdf",
         "62",
         "Aktiva"
        ],
        [
         "161",
         "../Geschaeftsberichte/Berlinovo/berlinovo_gb2019_s.pdf",
         "37",
         "Aktiva"
        ],
        [
         "164",
         "../Geschaeftsberichte/Berlinovo/berlinovo_Finanzbericht_2021.pdf",
         "40",
         "Aktiva"
        ],
        [
         "167",
         "../Geschaeftsberichte/Berlinovo/Finanzbericht_Berlinovo_2022_s.pdf",
         "42",
         "Aktiva"
        ],
        [
         "172",
         "../Geschaeftsberichte/Amt für Statistik Berlin-Brandenburg/AP_Geschaeftsbericht_DE_2019_BBB.pdf",
         "32",
         "Aktiva"
        ],
        [
         "175",
         "../Geschaeftsberichte/Amt für Statistik Berlin-Brandenburg/AP_Geschaeftsbericht_DE_2021_BBB.pdf",
         "8",
         "Aktiva"
        ]
       ],
       "shape": {
        "columns": 3,
        "rows": 74
       }
      },
      "text/html": [
       "<div>\n",
       "<style scoped>\n",
       "    .dataframe tbody tr th:only-of-type {\n",
       "        vertical-align: middle;\n",
       "    }\n",
       "\n",
       "    .dataframe tbody tr th {\n",
       "        vertical-align: top;\n",
       "    }\n",
       "\n",
       "    .dataframe thead th {\n",
       "        text-align: right;\n",
       "    }\n",
       "</style>\n",
       "<table border=\"1\" class=\"dataframe\">\n",
       "  <thead>\n",
       "    <tr style=\"text-align: right;\">\n",
       "      <th></th>\n",
       "      <th>filepath</th>\n",
       "      <th>page</th>\n",
       "      <th>type</th>\n",
       "    </tr>\n",
       "  </thead>\n",
       "  <tbody>\n",
       "    <tr>\n",
       "      <th>0</th>\n",
       "      <td>../Geschaeftsberichte/Berliner Bäder Betriebe/...</td>\n",
       "      <td>10</td>\n",
       "      <td>Aktiva</td>\n",
       "    </tr>\n",
       "    <tr>\n",
       "      <th>3</th>\n",
       "      <td>../Geschaeftsberichte/Berliner Bäder Betriebe/...</td>\n",
       "      <td>28</td>\n",
       "      <td>Aktiva</td>\n",
       "    </tr>\n",
       "    <tr>\n",
       "      <th>6</th>\n",
       "      <td>../Geschaeftsberichte/Berliner Bäder Betriebe/...</td>\n",
       "      <td>16</td>\n",
       "      <td>Aktiva</td>\n",
       "    </tr>\n",
       "    <tr>\n",
       "      <th>9</th>\n",
       "      <td>../Geschaeftsberichte/Berliner Bäder Betriebe/...</td>\n",
       "      <td>10</td>\n",
       "      <td>Aktiva</td>\n",
       "    </tr>\n",
       "    <tr>\n",
       "      <th>12</th>\n",
       "      <td>../Geschaeftsberichte/Berliner Bäder Betriebe/...</td>\n",
       "      <td>28</td>\n",
       "      <td>Aktiva</td>\n",
       "    </tr>\n",
       "    <tr>\n",
       "      <th>...</th>\n",
       "      <td>...</td>\n",
       "      <td>...</td>\n",
       "      <td>...</td>\n",
       "    </tr>\n",
       "    <tr>\n",
       "      <th>251</th>\n",
       "      <td>../Geschaeftsberichte/GESOBAU AG/GESOBAU_Gesch...</td>\n",
       "      <td>40</td>\n",
       "      <td>Aktiva</td>\n",
       "    </tr>\n",
       "    <tr>\n",
       "      <th>254</th>\n",
       "      <td>../Geschaeftsberichte/GESOBAU AG/GESOBAU_Gesch...</td>\n",
       "      <td>62</td>\n",
       "      <td>Aktiva</td>\n",
       "    </tr>\n",
       "    <tr>\n",
       "      <th>257</th>\n",
       "      <td>../Geschaeftsberichte/GESOBAU AG/GESOBAU_Gesch...</td>\n",
       "      <td>40</td>\n",
       "      <td>Aktiva</td>\n",
       "    </tr>\n",
       "    <tr>\n",
       "      <th>260</th>\n",
       "      <td>../Geschaeftsberichte/GESOBAU AG/GESOBAU_Gesch...</td>\n",
       "      <td>42</td>\n",
       "      <td>Aktiva</td>\n",
       "    </tr>\n",
       "    <tr>\n",
       "      <th>264</th>\n",
       "      <td>../Geschaeftsberichte/GESOBAU AG/GESOBAU_Gesch...</td>\n",
       "      <td>52</td>\n",
       "      <td>Aktiva</td>\n",
       "    </tr>\n",
       "  </tbody>\n",
       "</table>\n",
       "<p>74 rows × 3 columns</p>\n",
       "</div>"
      ],
      "text/plain": [
       "                                              filepath  page    type\n",
       "0    ../Geschaeftsberichte/Berliner Bäder Betriebe/...    10  Aktiva\n",
       "3    ../Geschaeftsberichte/Berliner Bäder Betriebe/...    28  Aktiva\n",
       "6    ../Geschaeftsberichte/Berliner Bäder Betriebe/...    16  Aktiva\n",
       "9    ../Geschaeftsberichte/Berliner Bäder Betriebe/...    10  Aktiva\n",
       "12   ../Geschaeftsberichte/Berliner Bäder Betriebe/...    28  Aktiva\n",
       "..                                                 ...   ...     ...\n",
       "251  ../Geschaeftsberichte/GESOBAU AG/GESOBAU_Gesch...    40  Aktiva\n",
       "254  ../Geschaeftsberichte/GESOBAU AG/GESOBAU_Gesch...    62  Aktiva\n",
       "257  ../Geschaeftsberichte/GESOBAU AG/GESOBAU_Gesch...    40  Aktiva\n",
       "260  ../Geschaeftsberichte/GESOBAU AG/GESOBAU_Gesch...    42  Aktiva\n",
       "264  ../Geschaeftsberichte/GESOBAU AG/GESOBAU_Gesch...    52  Aktiva\n",
       "\n",
       "[74 rows x 3 columns]"
      ]
     },
     "execution_count": 2,
     "metadata": {},
     "output_type": "execute_result"
    }
   ],
   "source": [
    "import pandas as pd\n",
    "\n",
    "path = \"/home/simon/Documents/data_science/Thesis/benchmark_truth/aktiva_passiva_guv_table_pages.csv\"\n",
    "\n",
    "df = pd.read_csv(path, sep=\",\")\n",
    "df_aktiva = df[df['type'] == 'Aktiva']\n",
    "df_aktiva"
   ]
  },
  {
   "cell_type": "code",
   "execution_count": 3,
   "id": "d54c2ad6",
   "metadata": {},
   "outputs": [],
   "source": [
    "from pypdf import PdfReader, PdfWriter\n",
    "\n",
    "output_pdf = PdfWriter()\n",
    "\n",
    "for idx, row in df_aktiva.iterrows():\n",
    "    pdf_path = row['filepath']\n",
    "    page_num = row['page'] - 1  # PyPDF2 uses 0-based indexing\n",
    "    try:\n",
    "        reader = PdfReader('../'+pdf_path)\n",
    "        output_pdf.add_page(reader.pages[page_num])\n",
    "    except Exception as e:\n",
    "        print(f\"Error processing {pdf_path} page {row['page']}: {e}\")\n",
    "\n",
    "with open(\"aktiva_pages_combined.pdf\", \"wb\") as f_out:\n",
    "    output_pdf.write(f_out)"
   ]
  }
 ],
 "metadata": {
  "kernelspec": {
   "display_name": "llm",
   "language": "python",
   "name": "python3"
  },
  "language_info": {
   "codemirror_mode": {
    "name": "ipython",
    "version": 3
   },
   "file_extension": ".py",
   "mimetype": "text/x-python",
   "name": "python",
   "nbconvert_exporter": "python",
   "pygments_lexer": "ipython3",
   "version": "3.13.2"
  }
 },
 "nbformat": 4,
 "nbformat_minor": 5
}
