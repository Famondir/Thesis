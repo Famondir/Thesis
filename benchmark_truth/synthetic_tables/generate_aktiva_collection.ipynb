{
 "cells": [
  {
   "cell_type": "code",
   "execution_count": 1,
   "id": "d4c500e1",
   "metadata": {},
   "outputs": [
    {
     "data": {
      "application/vnd.microsoft.datawrangler.viewer.v0+json": {
       "columns": [
        {
         "name": "index",
         "rawType": "int64",
         "type": "integer"
        },
        {
         "name": "filepath",
         "rawType": "object",
         "type": "string"
        },
        {
         "name": "page",
         "rawType": "int64",
         "type": "integer"
        },
        {
         "name": "type",
         "rawType": "object",
         "type": "string"
        }
       ],
       "ref": "4978404c-13a6-4500-a145-04a276069270",
       "rows": [
        [
         "0",
         "../Geschaeftsberichte/Berliner Bäder Betriebe/GB_BBB_Infra_2022_low.pdf",
         "10",
         "Aktiva"
        ],
        [
         "3",
         "../Geschaeftsberichte/Berliner Bäder Betriebe/GB_BBB_Infra_2022_low.pdf",
         "28",
         "Aktiva"
        ],
        [
         "6",
         "../Geschaeftsberichte/Berliner Bäder Betriebe/2023_Geschaeftsbericht_BBB.pdf",
         "16",
         "Aktiva"
        ],
        [
         "9",
         "../Geschaeftsberichte/Berliner Bäder Betriebe/GB_BBB_Infra_2020.pdf",
         "10",
         "Aktiva"
        ],
        [
         "12",
         "../Geschaeftsberichte/Berliner Bäder Betriebe/GB_BBB_Infra_2020.pdf",
         "28",
         "Aktiva"
        ],
        [
         "15",
         "../Geschaeftsberichte/Berliner Bäder Betriebe/2020_Geschaeftsbericht_BBB.pdf",
         "36",
         "Aktiva"
        ],
        [
         "18",
         "../Geschaeftsberichte/Berliner Bäder Betriebe/GB_BBB_Infra_2023.pdf",
         "7",
         "Aktiva"
        ],
        [
         "21",
         "../Geschaeftsberichte/Berliner Bäder Betriebe/GB_BBB_Infra_2023.pdf",
         "25",
         "Aktiva"
        ],
        [
         "24",
         "../Geschaeftsberichte/Berliner Bäder Betriebe/2021_Geschaeftsbericht_BBB.pdf",
         "34",
         "Aktiva"
        ],
        [
         "31",
         "../Geschaeftsberichte/Berliner Bäder Betriebe/2022_Geschaeftsbericht_BBB.pdf",
         "20",
         "Aktiva"
        ],
        [
         "36",
         "../Geschaeftsberichte/Berliner Bäder Betriebe/GB_BBB_Infra_2021.pdf",
         "10",
         "Aktiva"
        ],
        [
         "39",
         "../Geschaeftsberichte/Berliner Bäder Betriebe/GB_BBB_Infra_2021.pdf",
         "26",
         "Aktiva"
        ],
        [
         "42",
         "../Geschaeftsberichte/IBB/ibb_geschaeftsbericht_2017.pdf",
         "42",
         "Aktiva"
        ],
        [
         "46",
         "../Geschaeftsberichte/IBB/ibb-jahresabschluss-und-lagebericht-2023.pdf",
         "4",
         "Aktiva"
        ],
        [
         "49",
         "../Geschaeftsberichte/IBB/ibb_geschaeftsbericht_2020.pdf",
         "55",
         "Aktiva"
        ],
        [
         "53",
         "../Geschaeftsberichte/IBB/ibb_geschaeftsbericht_2013.pdf",
         "98",
         "Aktiva"
        ],
        [
         "57",
         "../Geschaeftsberichte/IBB/ibb_geschaeftsbericht_2014.pdf",
         "74",
         "Aktiva"
        ],
        [
         "61",
         "../Geschaeftsberichte/IBB/ibb-geschaeftsbericht-2021.pdf",
         "69",
         "Aktiva"
        ],
        [
         "65",
         "../Geschaeftsberichte/IBB/ibb_digitaler_geschaeftsbericht_2017.pdf",
         "14",
         "Aktiva"
        ],
        [
         "69",
         "../Geschaeftsberichte/IBB/ibb_geschaeftsbericht_2007.pdf",
         "74",
         "Aktiva"
        ],
        [
         "73",
         "../Geschaeftsberichte/IBB/ibb_geschaeftsbericht_2008.pdf",
         "72",
         "Aktiva"
        ],
        [
         "77",
         "../Geschaeftsberichte/IBB/ibb_geschaeftsbericht_2011.pdf",
         "115",
         "Aktiva"
        ],
        [
         "81",
         "../Geschaeftsberichte/IBB/ibb_geschaeftsbericht_2012.pdf",
         "116",
         "Aktiva"
        ],
        [
         "85",
         "../Geschaeftsberichte/IBB/ibb_geschaeftsbericht_2010.pdf",
         "106",
         "Aktiva"
        ],
        [
         "89",
         "../Geschaeftsberichte/IBB/ibb_geschaeftsbericht_2015.pdf",
         "44",
         "Aktiva"
        ],
        [
         "93",
         "../Geschaeftsberichte/IBB/ibb_geschaeftsbericht_2019.pdf",
         "44",
         "Aktiva"
        ],
        [
         "97",
         "../Geschaeftsberichte/IBB/ibb_geschaeftsbericht_2009.pdf",
         "89",
         "Aktiva"
        ],
        [
         "101",
         "../Geschaeftsberichte/IBB/ibb_geschaeftsbericht_2004.pdf",
         "66",
         "Aktiva"
        ],
        [
         "105",
         "../Geschaeftsberichte/IBB/ibb-jahresabschluss-und-lagebericht-2024.pdf",
         "32",
         "Aktiva"
        ],
        [
         "106",
         "../Geschaeftsberichte/IBB/ibb-jahresabschluss-und-lagebericht-2024.pdf",
         "33",
         "Aktiva"
        ],
        [
         "110",
         "../Geschaeftsberichte/IBB/ibb_geschaeftsbericht_2006.pdf",
         "68",
         "Aktiva"
        ],
        [
         "114",
         "../Geschaeftsberichte/IBB/ibb_geschaeftsbericht_2005.pdf",
         "66",
         "Aktiva"
        ],
        [
         "118",
         "../Geschaeftsberichte/IBB/ibb_geschaeftsbericht_2016.pdf",
         "44",
         "Aktiva"
        ],
        [
         "122",
         "../Geschaeftsberichte/IBB/ibb_geschaeftsbericht_2018.pdf",
         "47",
         "Aktiva"
        ],
        [
         "128",
         "../Geschaeftsberichte/Berlinovo/geschaeftsbericht_berlinovo_2017_0.pdf",
         "50",
         "Aktiva"
        ],
        [
         "131",
         "../Geschaeftsberichte/Berlinovo/040815_berlinovo_gb_online_rz.pdf",
         "60",
         "Aktiva"
        ],
        [
         "134",
         "../Geschaeftsberichte/Berlinovo/berlinovo_gb_2016_online_2.pdf",
         "53",
         "Aktiva"
        ],
        [
         "137",
         "../Geschaeftsberichte/Berlinovo/berlinovo_Finanzbericht_2023_barrierearm.pdf",
         "44",
         "Aktiva"
        ],
        [
         "140",
         "../Geschaeftsberichte/Berlinovo/020712_BIH_Jaresabschluss_2010_online.pdf",
         "20",
         "Aktiva"
        ],
        [
         "143",
         "../Geschaeftsberichte/Berlinovo/210512_BIH_Jahresabschluss_2011_online.pdf",
         "20",
         "Aktiva"
        ],
        [
         "146",
         "../Geschaeftsberichte/Berlinovo/070813_GB_berlinovo_2012_screen%2520-%2520Korrekturfassung.pdf",
         "50",
         "Aktiva"
        ],
        [
         "149",
         "../Geschaeftsberichte/Berlinovo/Finanzbericht_Berlinovo_2022_bf_s.pdf",
         "42",
         "Aktiva"
        ],
        [
         "152",
         "../Geschaeftsberichte/Berlinovo/berlinovo_Finanzbericht_2023.pdf",
         "44",
         "Aktiva"
        ],
        [
         "155",
         "../Geschaeftsberichte/Berlinovo/200514_gb_2013_online_2.pdf",
         "50",
         "Aktiva"
        ],
        [
         "158",
         "../Geschaeftsberichte/Berlinovo/berlinovo_gb_2015_online_0.pdf",
         "62",
         "Aktiva"
        ],
        [
         "161",
         "../Geschaeftsberichte/Berlinovo/berlinovo_gb2019_s.pdf",
         "37",
         "Aktiva"
        ],
        [
         "164",
         "../Geschaeftsberichte/Berlinovo/berlinovo_Finanzbericht_2021.pdf",
         "40",
         "Aktiva"
        ],
        [
         "167",
         "../Geschaeftsberichte/Berlinovo/Finanzbericht_Berlinovo_2022_s.pdf",
         "42",
         "Aktiva"
        ],
        [
         "172",
         "../Geschaeftsberichte/Amt für Statistik Berlin-Brandenburg/AP_Geschaeftsbericht_DE_2019_BBB.pdf",
         "32",
         "Aktiva"
        ],
        [
         "175",
         "../Geschaeftsberichte/Amt für Statistik Berlin-Brandenburg/AP_Geschaeftsbericht_DE_2021_BBB.pdf",
         "8",
         "Aktiva"
        ]
       ],
       "shape": {
        "columns": 3,
        "rows": 74
       }
      },
      "text/html": [
       "<div>\n",
       "<style scoped>\n",
       "    .dataframe tbody tr th:only-of-type {\n",
       "        vertical-align: middle;\n",
       "    }\n",
       "\n",
       "    .dataframe tbody tr th {\n",
       "        vertical-align: top;\n",
       "    }\n",
       "\n",
       "    .dataframe thead th {\n",
       "        text-align: right;\n",
       "    }\n",
       "</style>\n",
       "<table border=\"1\" class=\"dataframe\">\n",
       "  <thead>\n",
       "    <tr style=\"text-align: right;\">\n",
       "      <th></th>\n",
       "      <th>filepath</th>\n",
       "      <th>page</th>\n",
       "      <th>type</th>\n",
       "    </tr>\n",
       "  </thead>\n",
       "  <tbody>\n",
       "    <tr>\n",
       "      <th>0</th>\n",
       "      <td>../Geschaeftsberichte/Berliner Bäder Betriebe/...</td>\n",
       "      <td>10</td>\n",
       "      <td>Aktiva</td>\n",
       "    </tr>\n",
       "    <tr>\n",
       "      <th>3</th>\n",
       "      <td>../Geschaeftsberichte/Berliner Bäder Betriebe/...</td>\n",
       "      <td>28</td>\n",
       "      <td>Aktiva</td>\n",
       "    </tr>\n",
       "    <tr>\n",
       "      <th>6</th>\n",
       "      <td>../Geschaeftsberichte/Berliner Bäder Betriebe/...</td>\n",
       "      <td>16</td>\n",
       "      <td>Aktiva</td>\n",
       "    </tr>\n",
       "    <tr>\n",
       "      <th>9</th>\n",
       "      <td>../Geschaeftsberichte/Berliner Bäder Betriebe/...</td>\n",
       "      <td>10</td>\n",
       "      <td>Aktiva</td>\n",
       "    </tr>\n",
       "    <tr>\n",
       "      <th>12</th>\n",
       "      <td>../Geschaeftsberichte/Berliner Bäder Betriebe/...</td>\n",
       "      <td>28</td>\n",
       "      <td>Aktiva</td>\n",
       "    </tr>\n",
       "    <tr>\n",
       "      <th>...</th>\n",
       "      <td>...</td>\n",
       "      <td>...</td>\n",
       "      <td>...</td>\n",
       "    </tr>\n",
       "    <tr>\n",
       "      <th>251</th>\n",
       "      <td>../Geschaeftsberichte/GESOBAU AG/GESOBAU_Gesch...</td>\n",
       "      <td>40</td>\n",
       "      <td>Aktiva</td>\n",
       "    </tr>\n",
       "    <tr>\n",
       "      <th>254</th>\n",
       "      <td>../Geschaeftsberichte/GESOBAU AG/GESOBAU_Gesch...</td>\n",
       "      <td>62</td>\n",
       "      <td>Aktiva</td>\n",
       "    </tr>\n",
       "    <tr>\n",
       "      <th>257</th>\n",
       "      <td>../Geschaeftsberichte/GESOBAU AG/GESOBAU_Gesch...</td>\n",
       "      <td>40</td>\n",
       "      <td>Aktiva</td>\n",
       "    </tr>\n",
       "    <tr>\n",
       "      <th>260</th>\n",
       "      <td>../Geschaeftsberichte/GESOBAU AG/GESOBAU_Gesch...</td>\n",
       "      <td>42</td>\n",
       "      <td>Aktiva</td>\n",
       "    </tr>\n",
       "    <tr>\n",
       "      <th>264</th>\n",
       "      <td>../Geschaeftsberichte/GESOBAU AG/GESOBAU_Gesch...</td>\n",
       "      <td>52</td>\n",
       "      <td>Aktiva</td>\n",
       "    </tr>\n",
       "  </tbody>\n",
       "</table>\n",
       "<p>74 rows × 3 columns</p>\n",
       "</div>"
      ],
      "text/plain": [
       "                                              filepath  page    type\n",
       "0    ../Geschaeftsberichte/Berliner Bäder Betriebe/...    10  Aktiva\n",
       "3    ../Geschaeftsberichte/Berliner Bäder Betriebe/...    28  Aktiva\n",
       "6    ../Geschaeftsberichte/Berliner Bäder Betriebe/...    16  Aktiva\n",
       "9    ../Geschaeftsberichte/Berliner Bäder Betriebe/...    10  Aktiva\n",
       "12   ../Geschaeftsberichte/Berliner Bäder Betriebe/...    28  Aktiva\n",
       "..                                                 ...   ...     ...\n",
       "251  ../Geschaeftsberichte/GESOBAU AG/GESOBAU_Gesch...    40  Aktiva\n",
       "254  ../Geschaeftsberichte/GESOBAU AG/GESOBAU_Gesch...    62  Aktiva\n",
       "257  ../Geschaeftsberichte/GESOBAU AG/GESOBAU_Gesch...    40  Aktiva\n",
       "260  ../Geschaeftsberichte/GESOBAU AG/GESOBAU_Gesch...    42  Aktiva\n",
       "264  ../Geschaeftsberichte/GESOBAU AG/GESOBAU_Gesch...    52  Aktiva\n",
       "\n",
       "[74 rows x 3 columns]"
      ]
     },
     "execution_count": 1,
     "metadata": {},
     "output_type": "execute_result"
    }
   ],
   "source": [
    "import pandas as pd\n",
    "\n",
    "path = \"/home/simon/Documents/data_science/Thesis/benchmark_truth/aktiva_passiva_guv_table_pages.csv\"\n",
    "\n",
    "df = pd.read_csv(path, sep=\",\")\n",
    "df_aktiva = df[df['type'] == 'Aktiva']\n",
    "df_aktiva"
   ]
  },
  {
   "cell_type": "code",
   "execution_count": 2,
   "id": "d54c2ad6",
   "metadata": {},
   "outputs": [],
   "source": [
    "from pypdf import PdfReader, PdfWriter\n",
    "\n",
    "output_pdf = PdfWriter()\n",
    "\n",
    "for idx, row in df_aktiva.iterrows():\n",
    "    pdf_path = row['filepath']\n",
    "    page_num = row['page'] - 1  # PyPDF2 uses 0-based indexing\n",
    "    try:\n",
    "        reader = PdfReader('../'+pdf_path)\n",
    "        output_pdf.add_page(reader.pages[page_num])\n",
    "    except Exception as e:\n",
    "        print(f\"Error processing {pdf_path} page {row['page']}: {e}\")\n",
    "\n",
    "with open(\"aktiva_pages_combined.pdf\", \"wb\") as f_out:\n",
    "    output_pdf.write(f_out)"
   ]
  },
  {
   "cell_type": "code",
   "execution_count": null,
   "id": "664d5c3d",
   "metadata": {},
   "outputs": [
    {
     "name": "stdout",
     "output_type": "stream",
     "text": [
      "Loaded layout model s3://layout/2025_02_18 on device cpu with dtype torch.float32\n",
      "Loaded texify model s3://texify/2025_02_18 on device cpu with dtype torch.float32\n",
      "Loaded recognition model s3://text_recognition/2025_02_18 on device cpu with dtype torch.float32\n",
      "Loaded table recognition model s3://table_recognition/2025_02_18 on device cpu with dtype torch.float32\n",
      "Loaded detection model s3://text_detection/2025_02_28 on device cpu with dtype torch.float32\n",
      "Loaded detection model s3://inline_math_detection/2025_02_24 on device cpu with dtype torch.float32\n"
     ]
    }
   ],
   "source": [
    "from marker.converters.table import TableConverter\n",
    "from marker.models import create_model_dict\n",
    "from marker.output import text_from_rendered\n",
    "\n",
    "converter = TableConverter(\n",
    "    artifact_dict=create_model_dict(),\n",
    ")"
   ]
  },
  {
   "cell_type": "code",
   "execution_count": 7,
   "id": "ca158a87",
   "metadata": {},
   "outputs": [
    {
     "name": "stderr",
     "output_type": "stream",
     "text": [
      "Recognizing layout: 100%|██████████| 1/1 [00:01<00:00,  1.23s/it]\n",
      "Running OCR Error Detection: 100%|██████████| 1/1 [00:00<00:00,  5.82it/s]\n",
      "Detecting bboxes: 0it [00:00, ?it/s]\n",
      "Detecting bboxes: 0it [00:00, ?it/s]\n",
      "Recognizing tables: 100%|██████████| 1/1 [00:02<00:00,  2.03s/it]\n"
     ]
    }
   ],
   "source": [
    "import os\n",
    "\n",
    "# print(os.getcwd())\n",
    "\n",
    "file_path = './separate_files/aktiva_table_4_columns_span_False_thin_True_year_as_date_unit_in_first_cell_False_EUR_enumeration_True_0'\n",
    "rendered = converter(file_path+'.pdf')\n",
    "text, _, images = text_from_rendered(rendered)"
   ]
  },
  {
   "cell_type": "code",
   "execution_count": 10,
   "id": "42c5c7c2",
   "metadata": {},
   "outputs": [
    {
     "name": "stdout",
     "output_type": "stream",
     "text": [
      "| Aktiva                                                                                                                                                                                        | 31.12.2013   | 31.12.2013    | 31.12.2012    |\n",
      "|-----------------------------------------------------------------------------------------------------------------------------------------------------------------------------------------------|--------------|---------------|---------------|\n",
      "|                                                                                                                                                                                               | EUR          | EUR           | EUR           |\n",
      "| A.<br>Anlagevermögen                                                                                                                                                                          |              |               |               |\n",
      "| I.<br>Immaterielle<br>Vermögensgegenstände                                                                                                                                                    |              |               |               |\n",
      "| 1.<br>geleistete<br>Anzahlungen                                                                                                                                                               | 913.637,50   |               | 5.560.454,30  |\n",
      "| 2.<br>entgeltlich<br>erworbene<br>Konzessionen,<br>gewerbliche<br>Schutzrechte<br>und<br>ähnliche<br>Rechte<br>und<br>Werte<br>sowie<br>Lizenzen<br>an<br>solchen<br>Rechten<br>und<br>Werten | 9.377.116,62 |               | 2.855.838,45  |\n",
      "|                                                                                                                                                                                               |              | 10.290.754,12 | 8.416.292,75  |\n",
      "| II.<br>Sachanlagen                                                                                                                                                                            |              |               |               |\n",
      "| 1.<br>Grundstücke,<br>grundstücksgleiche<br>Rechte<br>und<br>Bauten<br>einschließlich<br>der<br>Bauten<br>auf fremden<br>Grundstücken                                                         | 1.954.774,63 |               | 7.016.617,35  |\n",
      "| 2.<br>Technische<br>Anlagen<br>und<br>Maschinen                                                                                                                                               | 254.563,64   |               | 5.589.517,35  |\n",
      "| 3.<br>Andere<br>Anlagen,<br>Betriebs-<br>und<br>Geschäftsausstattung                                                                                                                          | 8.772.123,75 |               | 4.788.619,96  |\n",
      "|                                                                                                                                                                                               |              | 10.981.462,02 | 17.394.754,66 |\n",
      "| III.<br>Finanzanlagen                                                                                                                                                                         |              |               |               |\n",
      "| 1.<br>Sonstige<br>Finanzanlagen                                                                                                                                                               | 1.689.839,31 |               | 7.853.816,31  |\n",
      "| 2.<br>Ausleihungen<br>an<br>verbundene<br>Unternehmen                                                                                                                                         | 8.880.276,96 |               | 5.725.104,93  |\n",
      "| 3.<br>Ausleihungen<br>an<br>Unternehmen,<br>mit<br>denen<br>ein<br>Beteiligungsverhältnis<br>besteht                                                                                          | 1.513.993,65 |               | 2.979.462,34  |\n",
      "| 4.<br>Wertpapiere<br>des<br>Anlagevermögens                                                                                                                                                   | 5.072.841,30 |               | 4.370.153,18  |\n",
      "| 5.<br>Sonstige<br>Ausleihungen                                                                                                                                                                | 5.901.836,02 |               | 371.321,42    |\n",
      "|                                                                                                                                                                                               |              | 23.058.787,24 | 21.299.858,17 |\n",
      "|                                                                                                                                                                                               |              | 44.331.003,39 | 47.110.905,58 |\n",
      "| B.<br>Umlaufvermögen                                                                                                                                                                          |              |               |               |\n",
      "| I.<br>Vorräte                                                                                                                                                                                 |              |               |               |\n",
      "| 1.<br>Roh-,<br>Hilfs-<br>und<br>Betriebsstoffe                                                                                                                                                | 8.109.998,25 |               | 308.533,41    |\n",
      "| 2.<br>Unfertige<br>Erzeugnisse,<br>unfertige<br>Leistungen                                                                                                                                    | 8.307.370,71 |               | 5.927.641,65  |\n",
      "| 3.<br>Geleistete<br>Anzahlungen                                                                                                                                                               | 7.198.003,36 |               | 7.837.360,04  |\n",
      "|                                                                                                                                                                                               |              | 23.615.372,32 | 14.073.535,09 |\n",
      "| II.<br>Forderungen<br>und<br>sonstige<br>Vermögensgegenstände                                                                                                                                 |              |               |               |\n",
      "| 1.<br>Forderungen<br>gegen<br>verbundene<br>Unternehmen                                                                                                                                       | 7.677.530,11 |               | 7.064.122,69  |\n",
      "| 2.<br>Sonstige<br>Vermögensgegenstände                                                                                                                                                        | 160.325,22   |               | 3.778.111,64  |\n",
      "|                                                                                                                                                                                               |              | 7.837.855,33  | 10.842.234,33 |\n",
      "| III.<br>Wertpapiere                                                                                                                                                                           |              |               |               |\n",
      "| 1.<br>Sonstige<br>Wertpapiere                                                                                                                                                                 |              | 3.813.647,37  | 8.195.312,06  |\n",
      "| IV.<br>Kassenbestand,<br>Bundesbankguthaben,<br>Guthaben<br>bei Kreditinstituten<br>und<br>Schecks                                                                                            |              | 6.258.615,71  | 7.443.915,18  |\n",
      "|                                                                                                                                                                                               |              | 41.525.490,73 | 40.554.996,67 |\n",
      "| C.<br>Aktiver<br>Unterschiedsbetrag<br>aus<br>der<br>Vermögensverrechnung                                                                                                                     |              | 1.755.614,53  | 89.454,30     |\n",
      "|                                                                                                                                                                                               |              | 87.612.108,66 | 87.755.356,55 |\n",
      "|                                                                                                                                                                                               |              |               |               |\n"
     ]
    }
   ],
   "source": [
    "print(rendered.markdown)"
   ]
  },
  {
   "cell_type": "code",
   "execution_count": null,
   "id": "c9b71e51",
   "metadata": {},
   "outputs": [],
   "source": [
    "import pandas as pd\n",
    "\n",
    "file_path = './separate_files/aktiva_table_4_columns_span_False_thin_True_year_as_date_unit_in_first_cell_False_EUR_enumeration_True_0'\n",
    "df = pd.read_csv(file_path+'.csv')"
   ]
  },
  {
   "cell_type": "code",
   "execution_count": 12,
   "id": "b8a65a18",
   "metadata": {},
   "outputs": [
    {
     "name": "stdout",
     "output_type": "stream",
     "text": [
      "| E1                                                      | E2                                                                           | E3                                                                                                                                      |   31.12.2013 |   31.12.2012 |\n",
      "|:--------------------------------------------------------|:-----------------------------------------------------------------------------|:----------------------------------------------------------------------------------------------------------------------------------------|-------------:|-------------:|\n",
      "| Anlagevermögen                                          | Immaterielle Vermögensgegenstände                                            | geleistete Anzahlungen                                                                                                                  |    913637.50 |   5560454.30 |\n",
      "| Anlagevermögen                                          | Immaterielle Vermögensgegenstände                                            | entgeltlich erworbene Konzessionen, gewerbliche Schutzrechte und ähnliche Rechte und Werte sowie Lizenzen an solchen Rechten und Werten |   9377116.62 |   2855838.45 |\n",
      "| Anlagevermögen                                          | Sachanlagen                                                                  | Grundstücke, grundstücksgleiche Rechte und Bauten einschließlich der Bauten auf fremden Grundstücken                                    |   1954774.63 |   7016617.35 |\n",
      "| Anlagevermögen                                          | Sachanlagen                                                                  | Technische Anlagen und Maschinen                                                                                                        |    254563.64 |   5589517.35 |\n",
      "| Anlagevermögen                                          | Sachanlagen                                                                  | Andere Anlagen, Betriebs- und Geschäftsausstattung                                                                                      |   8772123.75 |   4788619.96 |\n",
      "| Anlagevermögen                                          | Finanzanlagen                                                                | Sonstige Finanzanlagen                                                                                                                  |   1689839.31 |   7853816.31 |\n",
      "| Anlagevermögen                                          | Finanzanlagen                                                                | Ausleihungen an verbundene Unternehmen                                                                                                  |   8880276.96 |   5725104.93 |\n",
      "| Anlagevermögen                                          | Finanzanlagen                                                                | Ausleihungen an Unternehmen, mit denen ein Beteiligungsverhältnis besteht                                                               |   1513993.65 |   2979462.34 |\n",
      "| Anlagevermögen                                          | Finanzanlagen                                                                | Wertpapiere des Anlagevermögens                                                                                                         |   5072841.30 |   4370153.18 |\n",
      "| Anlagevermögen                                          | Finanzanlagen                                                                | Sonstige Ausleihungen                                                                                                                   |   5901836.02 |    371321.42 |\n",
      "| Umlaufvermögen                                          | Vorräte                                                                      | Roh-, Hilfs- und Betriebsstoffe                                                                                                         |   8109998.25 |    308533.41 |\n",
      "| Umlaufvermögen                                          | Vorräte                                                                      | Unfertige Erzeugnisse, unfertige Leistungen                                                                                             |   8307370.71 |   5927641.65 |\n",
      "| Umlaufvermögen                                          | Vorräte                                                                      | Geleistete Anzahlungen                                                                                                                  |   7198003.36 |   7837360.04 |\n",
      "| Umlaufvermögen                                          | Forderungen und sonstige Vermögensgegenstände                                | Forderungen gegen verbundene Unternehmen                                                                                                |   7677530.11 |   7064122.69 |\n",
      "| Umlaufvermögen                                          | Forderungen und sonstige Vermögensgegenstände                                | Sonstige Vermögensgegenstände                                                                                                           |    160325.22 |   3778111.64 |\n",
      "| Umlaufvermögen                                          | Wertpapiere                                                                  | Sonstige Wertpapiere                                                                                                                    |   3813647.37 |   8195312.06 |\n",
      "| Umlaufvermögen                                          | Kassenbestand, Bundesbankguthaben, Guthaben bei Kreditinstituten und Schecks | nan                                                                                                                                     |   6258615.71 |   7443915.18 |\n",
      "| Aktiver Unterschiedsbetrag aus der Vermögensverrechnung | nan                                                                          | nan                                                                                                                                     |   1755614.53 |     89454.30 |\n"
     ]
    }
   ],
   "source": [
    "from pprint import pprint\n",
    "\n",
    "print(df.dropna(subset=[df.columns[-1]]).to_markdown(index=False, floatfmt=\".2f\"))"
   ]
  },
  {
   "cell_type": "code",
   "execution_count": 14,
   "id": "fdb57de2",
   "metadata": {},
   "outputs": [
    {
     "data": {
      "text/plain": [
       "'EUR'"
      ]
     },
     "execution_count": 14,
     "metadata": {},
     "output_type": "execute_result"
    }
   ],
   "source": [
    "file_path.split('_')[-4]"
   ]
  },
  {
   "cell_type": "code",
   "execution_count": null,
   "id": "4793c7a6",
   "metadata": {},
   "outputs": [],
   "source": []
  }
 ],
 "metadata": {
  "kernelspec": {
   "display_name": "llm",
   "language": "python",
   "name": "python3"
  },
  "language_info": {
   "codemirror_mode": {
    "name": "ipython",
    "version": 3
   },
   "file_extension": ".py",
   "mimetype": "text/x-python",
   "name": "python",
   "nbconvert_exporter": "python",
   "pygments_lexer": "ipython3",
   "version": "3.13.2"
  }
 },
 "nbformat": 4,
 "nbformat_minor": 5
}
