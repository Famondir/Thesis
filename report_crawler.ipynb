{
 "cells": [
  {
   "cell_type": "code",
   "execution_count": 19,
   "id": "f8706a5e-4734-46f4-82e3-9d8323703767",
   "metadata": {},
   "outputs": [],
   "source": [
    "import os\n",
    "import re\n",
    "import requests\n",
    "from bs4 import BeautifulSoup\n",
    "\n",
    "import pandas as pd"
   ]
  },
  {
   "cell_type": "code",
   "execution_count": 21,
   "id": "df319309-07d8-4fcf-940e-91fb5d5bc9b6",
   "metadata": {},
   "outputs": [
    {
     "name": "stdout",
     "output_type": "stream",
     "text": [
      "  Unternehmen                                                URL  \\\n",
      "0   degewo AG                       https://www.degewo.de/presse   \n",
      "1  GESOBAU AG  https://www.gesobau.de/ueber-uns/gesobau-in-za...   \n",
      "\n",
      "               Stichwort Suchbereich  \n",
      "0     Konzernlagebericht        text  \n",
      "1  Gesch.{1,2}ftsbericht         url  \n"
     ]
    }
   ],
   "source": [
    "def create_dataframe(data, columns):\n",
    "    \"\"\"\n",
    "    Erstellt ein pandas DataFrame aus einer Liste von Listen und einer Liste von Spaltennamen.\n",
    "\n",
    "    :param data: List[List], die Datenreihen\n",
    "    :param columns: List[str], die Spaltennamen\n",
    "    :return: pandas.DataFrame\n",
    "    \"\"\"\n",
    "    return pd.DataFrame(data, columns=columns)\n",
    "\n",
    "data = [\n",
    "    ['degewo AG', 'https://www.degewo.de/presse', 'Konzernlagebericht', 'text'],\n",
    "    ['GESOBAU AG', 'https://www.gesobau.de/ueber-uns/gesobau-in-zahlen/geschaeftsbericht/', r'Gesch.{1,2}ftsbericht', 'url']    \n",
    "]\n",
    "\n",
    "columns = [\"Unternehmen\", \"URL\", \"Stichwort\", 'Suchbereich']\n",
    "\n",
    "df = create_dataframe(data, columns)\n",
    "print(df)"
   ]
  },
  {
   "cell_type": "code",
   "execution_count": 25,
   "id": "331c4239-e08a-4907-8cd2-30c4cc96c42b",
   "metadata": {},
   "outputs": [],
   "source": [
    "def download_pdfs(url, DOWNLOAD_FOLDER, pattern, link_part = 'text', verbose = False):\n",
    "    response = requests.get(url)\n",
    "    response.raise_for_status()\n",
    "    \n",
    "    soup = BeautifulSoup(response.text, \"html.parser\")\n",
    "    links = soup.find_all(\"a\", href=True)\n",
    "\n",
    "    count_downloaded = 0\n",
    "    count_skipped = 0\n",
    "    count_error = 0\n",
    "    \n",
    "    for link in links:\n",
    "        if link_part == 'text':\n",
    "            search_string = link.text\n",
    "        elif link_part == 'url':\n",
    "            search_string = link['href']\n",
    "        if re.search(pattern, search_string) and link[\"href\"].endswith(\".pdf\"):\n",
    "            pdf_url = link[\"href\"]\n",
    "            if not pdf_url.startswith(\"http\"):\n",
    "                pdf_url = requests.compat.urljoin(url, pdf_url)\n",
    "            \n",
    "            pdf_name = os.path.join(DOWNLOAD_FOLDER, pdf_url.split(\"/\")[-1])\n",
    "\n",
    "            if os.path.exists(pdf_name):\n",
    "                if verbose:\n",
    "                    print(f\"Bereits vorhanden: {pdf_name}\")\n",
    "                \n",
    "                count_skipped += 1\n",
    "                continue\n",
    "            \n",
    "            if verbose:\n",
    "                print(f\"Lade herunter: {pdf_url}\")\n",
    "\n",
    "            pdf_response = requests.get(pdf_url)\n",
    "            with open(pdf_name, \"wb\") as file:\n",
    "                file.write(pdf_response.content)\n",
    "                count_downloaded += 1\n",
    "                \n",
    "                if verbose:\n",
    "                    print(f\"Gespeichert als: {pdf_name}\")\n",
    "\n",
    "    if not verbose:\n",
    "        print(f'Es wurden {count_downloaded} Berichte heruntergeladen.\\nEs wurden {count_skipped} schon vorhandene Berichte übersprungen.\\nEs gab {count_error} Fehler.')"
   ]
  },
  {
   "cell_type": "code",
   "execution_count": 31,
   "id": "2c78a651-322f-4271-9297-1472e28e9eee",
   "metadata": {},
   "outputs": [
    {
     "name": "stdout",
     "output_type": "stream",
     "text": [
      "\n",
      "####### degewo AG #######\n",
      "Es wurden 0 Berichte heruntergeladen.\n",
      "Es wurden 7 schon vorhandene Berichte übersprungen.\n",
      "Es gab 0 Fehler.\n",
      "Es befinden sich 7 Berichte im Verzeichnis.\n",
      "\n",
      "####### GESOBAU AG #######\n",
      "Es wurden 0 Berichte heruntergeladen.\n",
      "Es wurden 24 schon vorhandene Berichte übersprungen.\n",
      "Es gab 0 Fehler.\n",
      "Es befinden sich 12 Berichte im Verzeichnis.\n"
     ]
    }
   ],
   "source": [
    "def pdf_downloader_loop(df, download_parent_folder = 'Geschaeftsberichte/'):\n",
    "    for index, row in df.iterrows():\n",
    "        unternehmen = row['Unternehmen']\n",
    "        URL = row['URL']\n",
    "        stichwort = row['Stichwort']\n",
    "        suchbereich = row['Suchbereich']\n",
    "\n",
    "        # Verzeichnis für die heruntergeladenen PDFs\n",
    "        DOWNLOAD_FOLDER = download_parent_folder+unternehmen\n",
    "        verbose = False if os.path.exists(DOWNLOAD_FOLDER) else True\n",
    "        os.makedirs(DOWNLOAD_FOLDER, exist_ok=True)\n",
    "\n",
    "        print(f'\\n####### {unternehmen} #######')\n",
    "        download_pdfs(URL, DOWNLOAD_FOLDER, stichwort, suchbereich, verbose)\n",
    "        file_count = len([file for file in os.listdir(DOWNLOAD_FOLDER) if file.endswith('.pdf')])\n",
    "        print(f'Es befinden sich {file_count} Berichte im Verzeichnis.')\n",
    "\n",
    "pdf_downloader_loop(df)"
   ]
  },
  {
   "cell_type": "code",
   "execution_count": null,
   "id": "c74f6434-0b15-463a-9cf1-e4395d59bd62",
   "metadata": {},
   "outputs": [],
   "source": []
  }
 ],
 "metadata": {
  "kernelspec": {
   "display_name": "Python 3 (ipykernel)",
   "language": "python",
   "name": "python3"
  },
  "language_info": {
   "codemirror_mode": {
    "name": "ipython",
    "version": 3
   },
   "file_extension": ".py",
   "mimetype": "text/x-python",
   "name": "python",
   "nbconvert_exporter": "python",
   "pygments_lexer": "ipython3",
   "version": "3.13.2"
  }
 },
 "nbformat": 4,
 "nbformat_minor": 5
}
